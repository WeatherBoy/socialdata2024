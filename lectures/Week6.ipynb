{
 "cells": [
  {
   "cell_type": "markdown",
   "metadata": {},
   "source": [
    "## Intro\n",
    "\n",
    "The purpose of today's class is to explore data using **interactive visualizations**. Interactivity is a key part of modern dataviz. It's a way to allow users of your visualizations get their own feel for the data ... to create richer visualization, where people who use your work can expose more of the data by exploring.\n",
    "\n",
    "I've also got a little video of \"practical updates\"\n",
    "\n",
    "[![IMAGE ALT TEXT HERE](https://github.com/suneman/socialdata2024/blob/main/files/thumbnail_week6.png?raw=true)](https://panopto.dtu.dk/Panopto/Pages/Viewer.aspx?id=13f93c21-8675-4c5a-bbad-b12a00adaa1c)"
   ]
  },
  {
   "cell_type": "markdown",
   "metadata": {},
   "source": [
    "## Part 1: Video Lectures and Reading\n",
    "\n",
    "Starting this week, we'll be playing around with *explanatory data visualization*. Roughly speaking this means using data visualization to communicate your results to others. Thus, there are new things to think about. \n",
    "\n",
    "Until today we have worked with static data visualization. However, exploratory data analysis means to be able to explore the multi-faceted nature of data and *interactive dataviz* is a handy tool to do it! It allows to play with the data: Toggle the view. Zoom. Drag. Show more details. All those things. Those are a key part of modern data visualization. \n",
    "\n",
    "The video below provides context about these points.\n",
    "\n",
    "We start with the video and then read a bit from a scientific article about types of explanatory dataviz. (*The video is from an old version of the class that used D3, so just ignore those parts.*).\n",
    "\n",
    "[![IMAGE ALT TEXT HERE](https://img.youtube.com/vi/yHKYMGwefso/0.jpg)](https://www.youtube.com/watch?v=yHKYMGwefso)"
   ]
  },
  {
   "cell_type": "markdown",
   "metadata": {},
   "source": [
    "> **Note**Keep your answers to the questions short and sweet!\n",
    "> *Exercises*: Explanatory data visualization. <font color=gray>It's OK to use LLMs here if you can</font>.\n",
    "> * What are the three key elements to keep in mind when you design an explanatory visualization?\n",
    "> * In the video I talk about (1) *overview first*,  (2) *zoom and filter*,  (3) *details on demand*. \n",
    ">   - Go online and find a visualization that follows these principles (don't use one from the video). \n",
    ">   - Explain how your video achieves (1)-(3). It might be useful to use screenshots to illustrate your explanation.\n",
    "> * Explain in your own words: How is explanatory data analysis different from exploratory data analysis?\n",
    "\n",
    "Explanatory data analysis is about you telling the story of some data. It is showing relations and what some data might really indicate.\n",
    "\n",
    "Exploratory data analysis is more like a GUI. It is making a framework for a user to explore the data on your own. However you shape the tools, otherwise they would just go into something like Python, themselves, so you have to be aware what questions the user might have."
   ]
  },
  {
   "cell_type": "markdown",
   "metadata": {},
   "source": [
    "## Part 2: Interactive visualizations with Bokeh\n",
    "\n",
    "\n",
    "\n",
    "To really master interactive visualizations, you will need to work with JavaScript, especially [D3](https://d3js.org). Given the limited time available for this class, we can't squeeze that in. But luckily Python has some pretty good options for interactive visualizations. You can find a range of different options [here](https://mode.com/blog/python-interactive-plot-libraries/).\n",
    "\n",
    "Today, we'll explore [`Bokeh`](https://docs.bokeh.org/en/latest/), which provides lots of nice interactive funtionalities to Python. To work with Bokeh, we first set up our system:\n",
    "\n",
    "1. If you haven't installed it yet please do so. You can simply follow [these steps](https://docs.bokeh.org/en/latest/docs/first_steps/installation.html)\n",
    "\n",
    "2. To include Bokeh in your notebooks you can follow the [Bokeh: Using with Jupyter](https://docs.bokeh.org/en/latest/docs/user_guide/output/jupyter.html#jupyter) guide. Come back to this one when you need it\n",
    "\n",
    "3. We aim to give you a gentle start with Bokeh and I am going to include more example code than usual in the follwing.\n",
    "   * **HINT 1**: If you're not an experienced Python user, I recommend going to the [official user's guide](https://docs.bokeh.org/en/latest/docs/user_guide.html#userguide) and working through it. Start by clicking \"Introduction\" in the linked page. That page has a glossary, a section on output methods, stuff on settings, and interfaces that you can scroll through. The next page *Basic Plotting* where the action is. Spend some time working through that.\n",
    "   * **HINT 2**: And by \"working through it\", I mean copy, paste, and run the code in your own notebook. "
   ]
  },
  {
   "cell_type": "markdown",
   "metadata": {},
   "source": [
    "Ok. Let's get started. First a general announcement on the data.\n",
    "\n",
    "> **Announcement**\n",
    "> * During this entire lecture, as always, we are going to work with the SF Crime Data. \n",
    "> * We will use data for the **period 2010-2017***.\n",
    "\n",
    "\n",
    "Now, to get you in the mood here's a little gif to illustrate what the goal of this exercise is:"
   ]
  },
  {
   "cell_type": "markdown",
   "metadata": {},
   "source": [
    "![Movie](https://github.com/suneman/socialdata2024/blob/main/files/week6_1.gif?raw=true)\n",
    "\n",
    "If the gif isn't displaying on your system, you can download it [here](https://github.com/suneman/socialdata2024/blob/main/files/week6_1.gif) and display locally."
   ]
  },
  {
   "cell_type": "markdown",
   "metadata": {},
   "source": [
    "\n",
    "> ***Exercise***: Recreate the results from **Week 2** as an interactive visualisation (shown in the gif). To complete the exercise, follow the steps below to create your own version of the dataviz.\n",
    "\n",
    "### Data prep\n",
    "\n",
    "A key step is to set up the data right. So for this one, we'll be pretty strict about the steps. The workflow is\n",
    "\n",
    "1. Take the data for the period of 2010-2017 and group it by hour-of-the-day.\n",
    "2. We would like to be able to easily compare how the distribution of crimes differ from each other, not absolute numbers, so we will work on *normalized data*:\n",
    "    * To normalise data for within a crime category you simply to devide the count for each hour by the total number of this crime type. (To give a concrete example in the `ASSAULT` category, take the number of assault-counts in 1st hour you should devide by the total number of assaults, then you devide number of assaults in 2nd hour by the total number of assaults and so on)\n",
    "    *  Your life will be easiest if you organize your dataframe as shown in [this helpful screenshot](https://github.com/suneman/socialdata2024/blob/main/files/W6_Part2_data.png).\n",
    "\n"
   ]
  },
  {
   "cell_type": "code",
   "execution_count": 1,
   "metadata": {},
   "outputs": [],
   "source": [
    "import pandas as pd\n",
    "import numpy as np\n",
    "import matplotlib.pyplot as plt\n",
    "\n",
    "SAVE_PATH = \"plots/Week6/\"\n",
    "\n",
    "focuscrimes = set(['WEAPON LAWS', 'PROSTITUTION', 'DRIVING UNDER THE INFLUENCE', 'ROBBERY', 'BURGLARY', 'ASSAULT', 'DRUNKENNESS', 'DRUG/NARCOTIC', 'TRESPASS', 'LARCENY/THEFT', 'VANDALISM', 'VEHICLE THEFT', 'STOLEN PROPERTY', 'DISORDERLY CONDUCT'])\n",
    "NUM_FOCUS_CRIMES = len(focuscrimes)"
   ]
  },
  {
   "cell_type": "code",
   "execution_count": 2,
   "metadata": {},
   "outputs": [
    {
     "name": "stdout",
     "output_type": "stream",
     "text": [
      "             PdId  IncidntNum  Incident Code       Category  \\\n",
      "0   4133422003074    41334220           3074        ROBBERY   \n",
      "1   5118535807021    51185358           7021  VEHICLE THEFT   \n",
      "2   4018830907021    40188309           7021  VEHICLE THEFT   \n",
      "3  11014543126030   110145431          26030          ARSON   \n",
      "4  10108108004134   101081080           4134        ASSAULT   \n",
      "\n",
      "                Descript DayOfWeek        Date   Time PdDistrict Resolution  \\\n",
      "0  ROBBERY, BODILY FORCE    Monday  11/22/2004  17:50  INGLESIDE       NONE   \n",
      "1      STOLEN AUTOMOBILE   Tuesday  10/18/2005  20:00       PARK       NONE   \n",
      "2      STOLEN AUTOMOBILE    Sunday  02/15/2004  02:00   SOUTHERN       NONE   \n",
      "3                  ARSON    Friday  02/18/2011  05:27  INGLESIDE       NONE   \n",
      "4                BATTERY    Sunday  11/21/2010  17:00   SOUTHERN       NONE   \n",
      "\n",
      "   ... Fix It Zones as of 2017-11-06  2 2  DELETE - HSOC Zones 2 2  \\\n",
      "0  ...                                NaN                      NaN   \n",
      "1  ...                                NaN                      NaN   \n",
      "2  ...                                NaN                      NaN   \n",
      "3  ...                                NaN                      NaN   \n",
      "4  ...                                NaN                      NaN   \n",
      "\n",
      "   Fix It Zones as of 2018-02-07 2 2  \\\n",
      "0                                NaN   \n",
      "1                                NaN   \n",
      "2                                NaN   \n",
      "3                                NaN   \n",
      "4                                NaN   \n",
      "\n",
      "  CBD, BID and GBD Boundaries as of 2017 2 2  \\\n",
      "0                                        NaN   \n",
      "1                                        NaN   \n",
      "2                                        NaN   \n",
      "3                                        NaN   \n",
      "4                                        NaN   \n",
      "\n",
      "   Areas of Vulnerability, 2016 2 2  Central Market/Tenderloin Boundary 2 2  \\\n",
      "0                               NaN                                     NaN   \n",
      "1                               NaN                                     NaN   \n",
      "2                               NaN                                     NaN   \n",
      "3                               1.0                                     NaN   \n",
      "4                               2.0                                     NaN   \n",
      "\n",
      "   Central Market/Tenderloin Boundary Polygon - Updated 2 2  \\\n",
      "0                                                NaN          \n",
      "1                                                NaN          \n",
      "2                                                NaN          \n",
      "3                                                NaN          \n",
      "4                                                NaN          \n",
      "\n",
      "   HSOC Zones as of 2018-06-05 2 2  OWED Public Spaces 2 2  Neighborhoods 2  \n",
      "0                              NaN                     NaN              NaN  \n",
      "1                              NaN                     NaN              NaN  \n",
      "2                              NaN                     NaN              NaN  \n",
      "3                              NaN                     NaN             94.0  \n",
      "4                              NaN                     NaN             32.0  \n",
      "\n",
      "[5 rows x 35 columns]\n"
     ]
    }
   ],
   "source": [
    "# *** Load and filter the data ***\n",
    "FILENAME = \"data/Police_Department_Incident_Reports__Historical_2003_to_May_2018_20240130.csv\"\n",
    "crime_df = pd.read_csv(FILENAME)\n",
    "crime_df = crime_df[crime_df[\"Date\"].str.contains(\"2018\") == False] # Remove 2018 data\n",
    "\n",
    "\n",
    "print(crime_df.head())"
   ]
  },
  {
   "cell_type": "code",
   "execution_count": 3,
   "metadata": {},
   "outputs": [
    {
     "name": "stdout",
     "output_type": "stream",
     "text": [
      "Category  ASSAULT  BURGLARY  DISORDERLY CONDUCT  DRIVING UNDER THE INFLUENCE  \\\n",
      "Hour                                                                           \n",
      "0            8878      3386                 517                          705   \n",
      "1            8074      2186                 380                          647   \n",
      "2            7258      2358                 341                          642   \n",
      "3            3557      2412                 216                          286   \n",
      "4            2216      2143                 158                          106   \n",
      "\n",
      "Category  DRUG/NARCOTIC  DRUNKENNESS  LARCENY/THEFT  PROSTITUTION  ROBBERY  \\\n",
      "Hour                                                                         \n",
      "0                  3686          817          18568          1342     2908   \n",
      "1                  2242          774          11481          1041     2987   \n",
      "2                  1817          656           7505           771     3129   \n",
      "3                  1235          258           4688           540     1888   \n",
      "4                   900          132           3042           464     1225   \n",
      "\n",
      "Category  STOLEN PROPERTY  TRESPASS  VANDALISM  VEHICLE THEFT  WEAPON LAWS  \n",
      "Hour                                                                        \n",
      "0                     534       550       6352           4695         1087  \n",
      "1                     379       393       4451           3206          815  \n",
      "2                     317       436       4210           2541          712  \n",
      "3                     246       359       2819           1572          439  \n",
      "4                     222       260       1879           1215          308  \n"
     ]
    }
   ],
   "source": [
    "# *** Group by time of day and category ***\n",
    "\n",
    "FOCUS_DATASET = True\n",
    "\n",
    "# Convert date and time to datetime\n",
    "crime_df[\"DateTime\"] = pd.to_datetime(crime_df[\"Date\"].astype(str) + ' ' + crime_df[\"Time\"].astype(str))\n",
    "\n",
    "if FOCUS_DATASET:\n",
    "    crime_df = crime_df[crime_df[\"Category\"].isin(focuscrimes)]\n",
    "\n",
    "# Group by time of day and category \n",
    "time_day_df = crime_df.groupby([crime_df[\"DateTime\"].dt.hour, \"Category\"])\n",
    "time_day_df = time_day_df.size().unstack()\n",
    "\n",
    "# and rename rows to hour\n",
    "ROW_NAME = \"Hour\"\n",
    "time_day_df.index.name = ROW_NAME\n",
    "time_day_df.columns.name = \"Category\"\n",
    "\n",
    "\n",
    "print(time_day_df.head())"
   ]
  },
  {
   "cell_type": "code",
   "execution_count": 4,
   "metadata": {},
   "outputs": [
    {
     "name": "stdout",
     "output_type": "stream",
     "text": [
      "Category   ASSAULT  BURGLARY  DISORDERLY CONDUCT  DRIVING UNDER THE INFLUENCE  \\\n",
      "Hour                                                                            \n",
      "0         0.054414  0.038057            0.052551                     0.126799   \n",
      "1         0.049486  0.024570            0.038626                     0.116367   \n",
      "2         0.044484  0.026503            0.034662                     0.115468   \n",
      "3         0.021801  0.027110            0.021956                     0.051439   \n",
      "4         0.013582  0.024087            0.016060                     0.019065   \n",
      "\n",
      "Category  DRUG/NARCOTIC  DRUNKENNESS  LARCENY/THEFT  PROSTITUTION   ROBBERY  \\\n",
      "Hour                                                                          \n",
      "0              0.031680     0.084436       0.039986      0.081566  0.054440   \n",
      "1              0.019269     0.079992       0.024724      0.063271  0.055919   \n",
      "2              0.015616     0.067797       0.016162      0.046861  0.058577   \n",
      "3              0.010614     0.026664       0.010096      0.032821  0.035345   \n",
      "4              0.007735     0.013642       0.006551      0.028202  0.022933   \n",
      "\n",
      "Category  STOLEN PROPERTY  TRESPASS  VANDALISM  VEHICLE THEFT  WEAPON LAWS  \n",
      "Hour                                                                        \n",
      "0                0.047708  0.029442   0.056748       0.037633     0.053292  \n",
      "1                0.033860  0.021037   0.039765       0.025698     0.039957  \n",
      "2                0.028321  0.023339   0.037612       0.020367     0.034907  \n",
      "3                0.021978  0.019217   0.025185       0.012600     0.021523  \n",
      "4                0.019834  0.013918   0.016787       0.009739     0.015100  \n"
     ]
    }
   ],
   "source": [
    "# Normalize the data \n",
    "time_day_normal_df = time_day_df.div(time_day_df.sum(axis=0), axis=1)\n",
    "\n",
    "print(time_day_normal_df.head())\n"
   ]
  },
  {
   "cell_type": "markdown",
   "metadata": {},
   "source": [
    "If you've followed these steps, your data should be ready! Take a moment to celebrate. Below, we follow the [Bokeh guide for categorical data](https://docs.bokeh.org/en/latest/docs/user_guide/basic/bars.html). You can either <font color=gray>use some kind of LLM support to make it happen, it's OK to go nuts and ask away</font> or you can follow the old-school hints from last year:\n",
    "\n",
    "\n",
    "1. First, let's convert our **Pandas Dataframe** to **Bokeh ColumnDataSource**:\n",
    "   \n",
    "  > ```python\n",
    "  > source = ColumnDataSource(your_processed_dataframe)\n",
    "  > ## it is a standard way to convert your df to bokeh\n",
    "  > ```\n",
    "\n",
    "2. We also need to create an empty figure (we will add our stuff here later on). Mini sub-exercise: Find the a guide how to define a figure in Bokeh online. Here is a little help:\n",
    "  \n",
    "  > ```python\n",
    "  > p = figure(...., x_range = FactorRange(factors=hours), ...) \n",
    "  > #p is a standard way to call figures in Bokeh\n",
    "  > #make sure to add x_range. In my case hours is a list on the form ['1', '2', '3' ... , '24']\n",
    "  > #read up on the FactorRange in the guide\n",
    "  > #do not forget to add other attributes to the figure, e.g. title, axis names and so on\n",
    "  > ```\n",
    "\n",
    "3. Now we are going to add the bars. In order to do so, we will use **vbar** (see the guide for help):\n",
    "  \n",
    "  > ```python\n",
    "  > bar ={} # to store vbars\n",
    "  > ### here we will do a for loop:\n",
    "  > for indx,i in enumerate(focuscrimes):\n",
    "  >     bar[i] = p.vbar(x='name_of_the_column_that_contain_hours',  top=i, source= src, \n",
    "  >                     ### we will create a vbar for each focuscrime\n",
    "  >                     legend_label=i,  muted_alpha=..., muted = ....) \n",
    "  > #i stands for a column that we use, top=y; we are specifying that our numbers comes from column i\n",
    "  > #read up what legend_label, muted and muted_alpha do... you can add more attributes (you HAVE TO)\n",
    "  > ```\n",
    "\n",
    "4. The last thing to do is to make your legend interactive and display the figure:\n",
    "  \n",
    "  > ```python\n",
    "  > p.legend.click_policy=\"mute\" ### assigns the click policy (you can try to use ''hide'\n",
    "  > show(p) #displays your plot\n",
    "  > ```\n",
    "\n",
    "5. You will notice that the legend appears in the middle of the figure (and it occludes some of the data). In order to fix this look into [this guide](https://stackoverflow.com/questions/26254619/position-of-the-legend-in-a-bokeh-plot) as a start. Below are some code snippets that you can use to deal with this problem (but read the guide first):\n",
    "  \n",
    "  > ```python\n",
    "  > items = [] ### for the custom legend // you need to figure out where to add it\n",
    "  > items.append((i, [bar[i]])) ### figure where to add it\n",
    "  > legend = Legend(items=..., location=.....) ## figure where to add it\n",
    "  > p.add_layout(...., ...) ## figure where to add it\n",
    "  > ### if you read the guide, it will make sense\n",
    "  > ```\n",
    "\n",
    "Now you should be able to recreate this amazing visualisation.\n",
    "\n",
    "\n",
    "**EXTRA feature**: If you're interested in detailed instructions for more Bokeh visualizations for your final project, you can find more inspiration **[here](https://github.com/suneman/socialdata2021/blob/main/lectures/Week8_extra_bokeh.ipynb)**."
   ]
  },
  {
   "cell_type": "code",
   "execution_count": 5,
   "metadata": {},
   "outputs": [
    {
     "data": {
      "text/html": [
       "    <style>\n",
       "        .bk-notebook-logo {\n",
       "            display: block;\n",
       "            width: 20px;\n",
       "            height: 20px;\n",
       "            background-image: url(data:image/png;base64,iVBORw0KGgoAAAANSUhEUgAAABQAAAAUCAYAAACNiR0NAAAABHNCSVQICAgIfAhkiAAAAAlwSFlzAAALEgAACxIB0t1+/AAAABx0RVh0U29mdHdhcmUAQWRvYmUgRmlyZXdvcmtzIENTNui8sowAAAOkSURBVDiNjZRtaJVlGMd/1/08zzln5zjP1LWcU9N0NkN8m2CYjpgQYQXqSs0I84OLIC0hkEKoPtiH3gmKoiJDU7QpLgoLjLIQCpEsNJ1vqUOdO7ppbuec5+V+rj4ctwzd8IIbbi6u+8f1539dt3A78eXC7QizUF7gyV1fD1Yqg4JWz84yffhm0qkFqBogB9rM8tZdtwVsPUhWhGcFJngGeWrPzHm5oaMmkfEg1usvLFyc8jLRqDOMru7AyC8saQr7GG7f5fvDeH7Ej8CM66nIF+8yngt6HWaKh7k49Soy9nXurCi1o3qUbS3zWfrYeQDTB/Qj6kX6Ybhw4B+bOYoLKCC9H3Nu/leUTZ1JdRWkkn2ldcCamzrcf47KKXdAJllSlxAOkRgyHsGC/zRday5Qld9DyoM4/q/rUoy/CXh3jzOu3bHUVZeU+DEn8FInkPBFlu3+nW3Nw0mk6vCDiWg8CeJaxEwuHS3+z5RgY+YBR6V1Z1nxSOfoaPa4LASWxxdNp+VWTk7+4vzaou8v8PN+xo+KY2xsw6une2frhw05CTYOmQvsEhjhWjn0bmXPjpE1+kplmmkP3suftwTubK9Vq22qKmrBhpY4jvd5afdRA3wGjFAgcnTK2s4hY0/GPNIb0nErGMCRxWOOX64Z8RAC4oCXdklmEvcL8o0BfkNK4lUg9HTl+oPlQxdNo3Mg4Nv175e/1LDGzZen30MEjRUtmXSfiTVu1kK8W4txyV6BMKlbgk3lMwYCiusNy9fVfvvwMxv8Ynl6vxoByANLTWplvuj/nF9m2+PDtt1eiHPBr1oIfhCChQMBw6Aw0UulqTKZdfVvfG7VcfIqLG9bcldL/+pdWTLxLUy8Qq38heUIjh4XlzZxzQm19lLFlr8vdQ97rjZVOLf8nclzckbcD4wxXMidpX30sFd37Fv/GtwwhzhxGVAprjbg0gCAEeIgwCZyTV2Z1REEW8O4py0wsjeloKoMr6iCY6dP92H6Vw/oTyICIthibxjm/DfN9lVz8IqtqKYLUXfoKVMVQVVJOElGjrnnUt9T9wbgp8AyYKaGlqingHZU/uG2NTZSVqwHQTWkx9hxjkpWDaCg6Ckj5qebgBVbT3V3NNXMSiWSDdGV3hrtzla7J+duwPOToIg42ChPQOQjspnSlp1V+Gjdged7+8UN5CRAV7a5EdFNwCjEaBR27b3W890TE7g24NAP/mMDXRWrGoFPQI9ls/MWO2dWFAar/xcOIImbbpA3zgAAAABJRU5ErkJggg==);\n",
       "        }\n",
       "    </style>\n",
       "    <div>\n",
       "        <a href=\"https://bokeh.org\" target=\"_blank\" class=\"bk-notebook-logo\"></a>\n",
       "        <span id=\"a6ecaef2-930b-4fdf-80a4-28cb6ea94896\">Loading BokehJS ...</span>\n",
       "    </div>\n"
      ]
     },
     "metadata": {},
     "output_type": "display_data"
    },
    {
     "data": {
      "application/javascript": "'use strict';\n(function(root) {\n  function now() {\n    return new Date();\n  }\n\n  const force = true;\n\n  if (typeof root._bokeh_onload_callbacks === \"undefined\" || force === true) {\n    root._bokeh_onload_callbacks = [];\n    root._bokeh_is_loading = undefined;\n  }\n\nconst JS_MIME_TYPE = 'application/javascript';\n  const HTML_MIME_TYPE = 'text/html';\n  const EXEC_MIME_TYPE = 'application/vnd.bokehjs_exec.v0+json';\n  const CLASS_NAME = 'output_bokeh rendered_html';\n\n  /**\n   * Render data to the DOM node\n   */\n  function render(props, node) {\n    const script = document.createElement(\"script\");\n    node.appendChild(script);\n  }\n\n  /**\n   * Handle when an output is cleared or removed\n   */\n  function handleClearOutput(event, handle) {\n    function drop(id) {\n      const view = Bokeh.index.get_by_id(id)\n      if (view != null) {\n        view.model.document.clear()\n        Bokeh.index.delete(view)\n      }\n    }\n\n    const cell = handle.cell;\n\n    const id = cell.output_area._bokeh_element_id;\n    const server_id = cell.output_area._bokeh_server_id;\n\n    // Clean up Bokeh references\n    if (id != null) {\n      drop(id)\n    }\n\n    if (server_id !== undefined) {\n      // Clean up Bokeh references\n      const cmd_clean = \"from bokeh.io.state import curstate; print(curstate().uuid_to_server['\" + server_id + \"'].get_sessions()[0].document.roots[0]._id)\";\n      cell.notebook.kernel.execute(cmd_clean, {\n        iopub: {\n          output: function(msg) {\n            const id = msg.content.text.trim()\n            drop(id)\n          }\n        }\n      });\n      // Destroy server and session\n      const cmd_destroy = \"import bokeh.io.notebook as ion; ion.destroy_server('\" + server_id + \"')\";\n      cell.notebook.kernel.execute(cmd_destroy);\n    }\n  }\n\n  /**\n   * Handle when a new output is added\n   */\n  function handleAddOutput(event, handle) {\n    const output_area = handle.output_area;\n    const output = handle.output;\n\n    // limit handleAddOutput to display_data with EXEC_MIME_TYPE content only\n    if ((output.output_type != \"display_data\") || (!Object.prototype.hasOwnProperty.call(output.data, EXEC_MIME_TYPE))) {\n      return\n    }\n\n    const toinsert = output_area.element.find(\".\" + CLASS_NAME.split(' ')[0]);\n\n    if (output.metadata[EXEC_MIME_TYPE][\"id\"] !== undefined) {\n      toinsert[toinsert.length - 1].firstChild.textContent = output.data[JS_MIME_TYPE];\n      // store reference to embed id on output_area\n      output_area._bokeh_element_id = output.metadata[EXEC_MIME_TYPE][\"id\"];\n    }\n    if (output.metadata[EXEC_MIME_TYPE][\"server_id\"] !== undefined) {\n      const bk_div = document.createElement(\"div\");\n      bk_div.innerHTML = output.data[HTML_MIME_TYPE];\n      const script_attrs = bk_div.children[0].attributes;\n      for (let i = 0; i < script_attrs.length; i++) {\n        toinsert[toinsert.length - 1].firstChild.setAttribute(script_attrs[i].name, script_attrs[i].value);\n        toinsert[toinsert.length - 1].firstChild.textContent = bk_div.children[0].textContent\n      }\n      // store reference to server id on output_area\n      output_area._bokeh_server_id = output.metadata[EXEC_MIME_TYPE][\"server_id\"];\n    }\n  }\n\n  function register_renderer(events, OutputArea) {\n\n    function append_mime(data, metadata, element) {\n      // create a DOM node to render to\n      const toinsert = this.create_output_subarea(\n        metadata,\n        CLASS_NAME,\n        EXEC_MIME_TYPE\n      );\n      this.keyboard_manager.register_events(toinsert);\n      // Render to node\n      const props = {data: data, metadata: metadata[EXEC_MIME_TYPE]};\n      render(props, toinsert[toinsert.length - 1]);\n      element.append(toinsert);\n      return toinsert\n    }\n\n    /* Handle when an output is cleared or removed */\n    events.on('clear_output.CodeCell', handleClearOutput);\n    events.on('delete.Cell', handleClearOutput);\n\n    /* Handle when a new output is added */\n    events.on('output_added.OutputArea', handleAddOutput);\n\n    /**\n     * Register the mime type and append_mime function with output_area\n     */\n    OutputArea.prototype.register_mime_type(EXEC_MIME_TYPE, append_mime, {\n      /* Is output safe? */\n      safe: true,\n      /* Index of renderer in `output_area.display_order` */\n      index: 0\n    });\n  }\n\n  // register the mime type if in Jupyter Notebook environment and previously unregistered\n  if (root.Jupyter !== undefined) {\n    const events = require('base/js/events');\n    const OutputArea = require('notebook/js/outputarea').OutputArea;\n\n    if (OutputArea.prototype.mime_types().indexOf(EXEC_MIME_TYPE) == -1) {\n      register_renderer(events, OutputArea);\n    }\n  }\n  if (typeof (root._bokeh_timeout) === \"undefined\" || force === true) {\n    root._bokeh_timeout = Date.now() + 5000;\n    root._bokeh_failed_load = false;\n  }\n\n  const NB_LOAD_WARNING = {'data': {'text/html':\n     \"<div style='background-color: #fdd'>\\n\"+\n     \"<p>\\n\"+\n     \"BokehJS does not appear to have successfully loaded. If loading BokehJS from CDN, this \\n\"+\n     \"may be due to a slow or bad network connection. Possible fixes:\\n\"+\n     \"</p>\\n\"+\n     \"<ul>\\n\"+\n     \"<li>re-rerun `output_notebook()` to attempt to load from CDN again, or</li>\\n\"+\n     \"<li>use INLINE resources instead, as so:</li>\\n\"+\n     \"</ul>\\n\"+\n     \"<code>\\n\"+\n     \"from bokeh.resources import INLINE\\n\"+\n     \"output_notebook(resources=INLINE)\\n\"+\n     \"</code>\\n\"+\n     \"</div>\"}};\n\n  function display_loaded(error = null) {\n    const el = document.getElementById(\"a6ecaef2-930b-4fdf-80a4-28cb6ea94896\");\n    if (el != null) {\n      const html = (() => {\n        if (typeof root.Bokeh === \"undefined\") {\n          if (error == null) {\n            return \"BokehJS is loading ...\";\n          } else {\n            return \"BokehJS failed to load.\";\n          }\n        } else {\n          const prefix = `BokehJS ${root.Bokeh.version}`;\n          if (error == null) {\n            return `${prefix} successfully loaded.`;\n          } else {\n            return `${prefix} <b>encountered errors</b> while loading and may not function as expected.`;\n          }\n        }\n      })();\n      el.innerHTML = html;\n\n      if (error != null) {\n        const wrapper = document.createElement(\"div\");\n        wrapper.style.overflow = \"auto\";\n        wrapper.style.height = \"5em\";\n        wrapper.style.resize = \"vertical\";\n        const content = document.createElement(\"div\");\n        content.style.fontFamily = \"monospace\";\n        content.style.whiteSpace = \"pre-wrap\";\n        content.style.backgroundColor = \"rgb(255, 221, 221)\";\n        content.textContent = error.stack ?? error.toString();\n        wrapper.append(content);\n        el.append(wrapper);\n      }\n    } else if (Date.now() < root._bokeh_timeout) {\n      setTimeout(() => display_loaded(error), 100);\n    }\n  }\n\n  function run_callbacks() {\n    try {\n      root._bokeh_onload_callbacks.forEach(function(callback) {\n        if (callback != null)\n          callback();\n      });\n    } finally {\n      delete root._bokeh_onload_callbacks\n    }\n    console.debug(\"Bokeh: all callbacks have finished\");\n  }\n\n  function load_libs(css_urls, js_urls, callback) {\n    if (css_urls == null) css_urls = [];\n    if (js_urls == null) js_urls = [];\n\n    root._bokeh_onload_callbacks.push(callback);\n    if (root._bokeh_is_loading > 0) {\n      console.debug(\"Bokeh: BokehJS is being loaded, scheduling callback at\", now());\n      return null;\n    }\n    if (js_urls == null || js_urls.length === 0) {\n      run_callbacks();\n      return null;\n    }\n    console.debug(\"Bokeh: BokehJS not loaded, scheduling load and callback at\", now());\n    root._bokeh_is_loading = css_urls.length + js_urls.length;\n\n    function on_load() {\n      root._bokeh_is_loading--;\n      if (root._bokeh_is_loading === 0) {\n        console.debug(\"Bokeh: all BokehJS libraries/stylesheets loaded\");\n        run_callbacks()\n      }\n    }\n\n    function on_error(url) {\n      console.error(\"failed to load \" + url);\n    }\n\n    for (let i = 0; i < css_urls.length; i++) {\n      const url = css_urls[i];\n      const element = document.createElement(\"link\");\n      element.onload = on_load;\n      element.onerror = on_error.bind(null, url);\n      element.rel = \"stylesheet\";\n      element.type = \"text/css\";\n      element.href = url;\n      console.debug(\"Bokeh: injecting link tag for BokehJS stylesheet: \", url);\n      document.body.appendChild(element);\n    }\n\n    for (let i = 0; i < js_urls.length; i++) {\n      const url = js_urls[i];\n      const element = document.createElement('script');\n      element.onload = on_load;\n      element.onerror = on_error.bind(null, url);\n      element.async = false;\n      element.src = url;\n      console.debug(\"Bokeh: injecting script tag for BokehJS library: \", url);\n      document.head.appendChild(element);\n    }\n  };\n\n  function inject_raw_css(css) {\n    const element = document.createElement(\"style\");\n    element.appendChild(document.createTextNode(css));\n    document.body.appendChild(element);\n  }\n\n  const js_urls = [\"https://cdn.bokeh.org/bokeh/release/bokeh-3.4.0.min.js\", \"https://cdn.bokeh.org/bokeh/release/bokeh-gl-3.4.0.min.js\", \"https://cdn.bokeh.org/bokeh/release/bokeh-widgets-3.4.0.min.js\", \"https://cdn.bokeh.org/bokeh/release/bokeh-tables-3.4.0.min.js\", \"https://cdn.bokeh.org/bokeh/release/bokeh-mathjax-3.4.0.min.js\"];\n  const css_urls = [];\n\n  const inline_js = [    function(Bokeh) {\n      Bokeh.set_log_level(\"info\");\n    },\nfunction(Bokeh) {\n    }\n  ];\n\n  function run_inline_js() {\n    if (root.Bokeh !== undefined || force === true) {\n      try {\n            for (let i = 0; i < inline_js.length; i++) {\n      inline_js[i].call(root, root.Bokeh);\n    }\n\n      } catch (error) {display_loaded(error);throw error;\n      }if (force === true) {\n        display_loaded();\n      }} else if (Date.now() < root._bokeh_timeout) {\n      setTimeout(run_inline_js, 100);\n    } else if (!root._bokeh_failed_load) {\n      console.log(\"Bokeh: BokehJS failed to load within specified timeout.\");\n      root._bokeh_failed_load = true;\n    } else if (force !== true) {\n      const cell = $(document.getElementById(\"a6ecaef2-930b-4fdf-80a4-28cb6ea94896\")).parents('.cell').data().cell;\n      cell.output_area.append_execute_result(NB_LOAD_WARNING)\n    }\n  }\n\n  if (root._bokeh_is_loading === 0) {\n    console.debug(\"Bokeh: BokehJS loaded, going straight to plotting\");\n    run_inline_js();\n  } else {\n    load_libs(css_urls, js_urls, function() {\n      console.debug(\"Bokeh: BokehJS plotting callback run at\", now());\n      run_inline_js();\n    });\n  }\n}(window));",
      "application/vnd.bokehjs_load.v0+json": ""
     },
     "metadata": {},
     "output_type": "display_data"
    }
   ],
   "source": [
    "import bokeh.plotting as bp\n",
    "from bokeh.models import ColumnDataSource, HoverTool, FactorRange, Legend\n",
    "from bokeh.palettes import Category20c\n",
    "from bokeh.transform import factor_cmap\n",
    "from bokeh.io import output_file, show, output_notebook\n",
    "from bokeh.layouts import gridplot\n",
    "\n",
    "output_notebook()"
   ]
  },
  {
   "cell_type": "code",
   "execution_count": 7,
   "metadata": {},
   "outputs": [
    {
     "data": {
      "text/html": [
       "\n",
       "  <div id=\"af200288-2701-425a-ae36-7c2fc49026eb\" data-root-id=\"p1213\" style=\"display: contents;\"></div>\n"
      ]
     },
     "metadata": {},
     "output_type": "display_data"
    },
    {
     "data": {
      "application/javascript": "(function(root) {\n  function embed_document(root) {\n  const docs_json = {\"559b8c33-df69-40d6-87f4-dad93b1e351f\":{\"version\":\"3.4.0\",\"title\":\"Bokeh Application\",\"roots\":[{\"type\":\"object\",\"name\":\"Figure\",\"id\":\"p1213\",\"attributes\":{\"width\":1200,\"height\":400,\"x_range\":{\"type\":\"object\",\"name\":\"FactorRange\",\"id\":\"p1212\",\"attributes\":{\"factors\":[\"00:00\",\"01:00\",\"02:00\",\"03:00\",\"04:00\",\"05:00\",\"06:00\",\"07:00\",\"08:00\",\"09:00\",\"10:00\",\"11:00\",\"12:00\",\"13:00\",\"14:00\",\"15:00\",\"16:00\",\"17:00\",\"18:00\",\"19:00\",\"20:00\",\"21:00\",\"22:00\",\"23:00\"]}},\"y_range\":{\"type\":\"object\",\"name\":\"DataRange1d\",\"id\":\"p1215\"},\"x_scale\":{\"type\":\"object\",\"name\":\"CategoricalScale\",\"id\":\"p1223\"},\"y_scale\":{\"type\":\"object\",\"name\":\"LinearScale\",\"id\":\"p1224\"},\"title\":{\"type\":\"object\",\"name\":\"Title\",\"id\":\"p1216\",\"attributes\":{\"text\":\"Crimes by time of day\"}},\"renderers\":[{\"type\":\"object\",\"name\":\"GlyphRenderer\",\"id\":\"p1252\",\"attributes\":{\"data_source\":{\"type\":\"object\",\"name\":\"ColumnDataSource\",\"id\":\"p1209\",\"attributes\":{\"selected\":{\"type\":\"object\",\"name\":\"Selection\",\"id\":\"p1210\",\"attributes\":{\"indices\":[],\"line_indices\":[]}},\"selection_policy\":{\"type\":\"object\",\"name\":\"UnionRenderers\",\"id\":\"p1211\"},\"data\":{\"type\":\"map\",\"entries\":[[\"Hour\",{\"type\":\"ndarray\",\"array\":{\"type\":\"bytes\",\"data\":\"AAAAAAEAAAACAAAAAwAAAAQAAAAFAAAABgAAAAcAAAAIAAAACQAAAAoAAAALAAAADAAAAA0AAAAOAAAADwAAABAAAAARAAAAEgAAABMAAAAUAAAAFQAAABYAAAAXAAAA\"},\"shape\":[24],\"dtype\":\"int32\",\"order\":\"little\"}],[\"ASSAULT\",{\"type\":\"ndarray\",\"array\":{\"type\":\"bytes\",\"data\":\"GokCiBbcqz/9JmgOM1apP9B6YLWrxqY/EwJBPP1Slj+ysq1Y19CLPz0l7/BCBIY/8pI/ly4Djj9lXoCfXByWP+6J6iQkBqE/jPjUr2Dvoj8ARBGGVyelP4N9TFsOY6Y/g9Rluuuzqz+QZ0IFXFyoPwGGkxf1u6g/QB9OQ6ikqz/+3kTP+mGrP3X/Bt7ddqs/MKepcxIYqz9eKYMxGi+qPyd4TbNqiqk/2OyKM4WTqj9NDplu/FKpP4jCixWKV6g/\"},\"shape\":[24],\"dtype\":\"float64\",\"order\":\"little\"}],[\"BURGLARY\",{\"type\":\"ndarray\",\"array\":{\"type\":\"bytes\",\"data\":\"Epw9lEB8oz+Efnqc0yiZP9/xbGubI5s/yLzibbbCmz+u4b2oIaqYP3ybISBDfZY/8RtTBIOmlj/oGxpqf9KhP5guHWb9l6s/ibs4UbQcqD+GzXQKKmemPzwcYb4BJqU/FNrQRahqrD+LvjbKrr+iPw76dUISYqQ/CqSq5T/jpz8w5w9bIJmqP/ZLoGan17E/tldnnGH0sT+HbD7jXd6qP1r+VnISf6c/STx473LFpj+7mPjGw4WlP95rsDpZN6Q/\"},\"shape\":[24],\"dtype\":\"float64\",\"order\":\"little\"}],[\"DISORDERLY CONDUCT\",{\"type\":\"ndarray\",\"array\":{\"type\":\"bytes\",\"data\":\"/NvrFALoqj9SYd6pwMajP3ChLoAnv6E/KmFz4Yx7lj+r17AWFHKQP5UNXRyZjqQ/WWit5Nr+uT8unHHPAoa3P8Jt1V0zg7E/yCqGgmx9qj9RF8CT34imP2Bc94kDJKQ/hxJEPFYxpD+pjZIAMzSjP70NyOTM2aE/U6v8v6EEoT9pL5cRwomfPzBDM5G2FJ4/khx9RATCoD+lrze+j3qbPx9XOtne6pk/xuBnbIs/nT/Gg8TAuO6jP4tNQirMO6U/\"},\"shape\":[24],\"dtype\":\"float64\",\"order\":\"little\"}],[\"DRIVING UNDER THE INFLUENCE\",{\"type\":\"ndarray\",\"array\":{\"type\":\"bytes\",\"data\":\"WHCpbO86wD8WY6W5OMq9P73y+0xJj70/6M23WzFWqj8VaiCYtYWTPwAHe958u4U/hgwSqXNqiT8Es7ZwovGAPwSztnCi8YA/Y54+Wk1ChD/uTxG3aSdzP3kB5BOGDII/irhNO5mghD/qo9UkRPGHP3CpbO86oIs/xzUC1h3Jkj/7Wj9MV4WaP2df64fpqqA/oQaCWVs4oT87maAUeBalPxDTVaEGgqk/GEA+YcggsT9XjJXm4ii3P1H1yu8zJb0/\"},\"shape\":[24],\"dtype\":\"float64\",\"order\":\"little\"}],[\"DRUG/NARCOTIC\",{\"type\":\"ndarray\",\"array\":{\"type\":\"bytes\",\"data\":\"s9mnXFM4oD9zTeFgSLuTPyWxd3N++48/BWuU9fi8hT+YdGoe5K5/Pz8qkh2zlHA/xZnWnvw7hz8hMgYSwC6aP6EZeRqqNKE/+9liZfhGpD/0lohHiqmmP8bK8I0oMKk/Qx8VyY5Zqj+kItkxSwmxP8RovK/QR7M/l80+5ZrCsT8+tIDTlZyyP1ijrMfnLbM/EdQLrm4TsT+Aonut+AGtPyKoF1zdJqY/zcjTUKXJpD/M3LC8atmoPw+3zioIL6U/\"},\"shape\":[24],\"dtype\":\"float64\",\"order\":\"little\"}],[\"DRUNKENNESS\",{\"type\":\"ndarray\",\"array\":{\"type\":\"bytes\",\"data\":\"S14nRJSdtT8sqmiRVnq0Pw0ndV8eW7E/5uLgwchNmz8PdzlbVvCLP9BcYfiXDHM/nBk6+b/ugD+xY+bFBkCRPxfCUsYaMZA/SwV6xfJOkj8DoIj3byqVP+b20cAW850/ijNDJ//XnT8ucLSN57ydP6c+kF9jF6E/dJnSXoDxoj/G1XSQ6dumPxkSF8JSxqo/5vbRwBbzrT+UziCO+62sPziVCvSK5a0/7nK2rOA3sD/GfMcRSI2zP2q5OHgwcrM/\"},\"shape\":[24],\"dtype\":\"float64\",\"order\":\"little\"}],[\"LARCENY/THEFT\",{\"type\":\"ndarray\",\"array\":{\"type\":\"bytes\",\"data\":\"YQ1OXwR5pD81+vFLRVGZPy+kLcK7jJA/kY03+/OshD+GqdrPGNV6P8JbOBK+/Xo/UTLR6SVMhT87YDQqRMqQPxjITuhfS5w/4kf35/vJoD9oDCd1vuykP7m48VsU9qY/VouzEC2LrT/MBjiUHiSqP1HfEoMKFKs/fg/iM+DFrD/alDLd3A2uP/HJQooJI7E/eJ+87LV6tD+lVoagZDazP6Cq5RJCv7A/TRyp9kBVrD8jK2ds2dKrPwa/0RC/Qak/\"},\"shape\":[24],\"dtype\":\"float64\",\"order\":\"little\"}],[\"PROSTITUTION\",{\"type\":\"ndarray\",\"array\":{\"type\":\"bytes\",\"data\":\"VbxY5XzhtD8x972DiTKwP/9oVAMi/qc/yApPCOLNoD//iR+R3eCcP4ecJAO+3KE/56MSKrAOoD8Q8b+QFZ6QP/sL5rPeq4I/t2EY7TJLgz9CdVDpCSeHP+shTAevQ4o/KxNwucrfnT/mJgzXp7mUP9k2f9CI+5I/Sqwz25ggjT9iixpe4LyRP2gDYeHvm6I/iTr244EUsj8yGIkRRRW1P8g75hcAsrA/liqD6qDSsz/dYlYQrmm4P7kgtVuyZbg/\"},\"shape\":[24],\"dtype\":\"float64\",\"order\":\"little\"}],[\"ROBBERY\",{\"type\":\"ndarray\",\"array\":{\"type\":\"bytes\",\"data\":\"FdUCyYHfqz+3UV1wWqGsP2n3/y7J/a0/aoVyaK4Yoj/bPPZssHuXP2kXc0lSPpQ/UwEM33thkz8BLhnqSVmRPzeWEINMa5M/LX7ogD5elz+fo2uknJuaP55+7HUS1J0/tdlFKfy4oT9j4dMFQOmiP5xPVR+G/qM/oH9q4lRQpj+/GnsBU5ioPy8Wc+Ilh6g/jSsZHPHqqT9stAm/Ou6rP1XCoxasXK8/HeXZ9uzjsT/gIcTrTbWxP96JOYpmjLA/\"},\"shape\":[24],\"dtype\":\"float64\",\"order\":\"little\"}],[\"STOLEN PROPERTY\",{\"type\":\"ndarray\",\"array\":{\"type\":\"bytes\",\"data\":\"x7h55jttqD/mCNMdKFahPxeF7WdAAJ0/F2iBFmiBlj9N5/dxUU+UP4OgRnDrGo8/rmt8wCCokT9YfswrLRGZP8V9LZNFDqA/ewtaF5sboT9xkfGul9iiP2g1aUiydaY/p0pArTGkrT/EmSU02CurPzC1fjyDRq0/89rzKvp2rj8we6aZ0kiwP+tFB9Kpd7A/tgBpGXGnrz+FobogMXyqPyUeqoKnhKg/kzp3O5gApj8jAMqAiaSmPwN1JPamXKU/\"},\"shape\":[24],\"dtype\":\"float64\",\"order\":\"little\"}],[\"TRESPASS\",{\"type\":\"ndarray\",\"array\":{\"type\":\"bytes\",\"data\":\"2+nPnPUlnj/iegE01YqVP36PIac85pc/Woiy/Litkz/rImzV+oCMP+sibNX6gJw/9YlVDrpvrz9Bfay9JwyxP/8aPqzfrq8/+8aI28wzrD+D49Z3T2GrPxqkQRqkQao/cz+6cX2uqz9esmhoZdipP+HlgQGi4qY/8V+fog1FqT9+jyGnPOanP/Zy0wq6uKg/b4CE053bpj+EzFR0T6qkP0rklfbm+qM/npbZSnpEoz96+uptw2OgPxp6QrU98Zw/\"},\"shape\":[24],\"dtype\":\"float64\",\"order\":\"little\"}],[\"VANDALISM\",{\"type\":\"ndarray\",\"array\":{\"type\":\"bytes\",\"data\":\"2xdqvBoOrT8ggsBED1ykP9cTYRraQaM/L8ERMQXKmT/jDzbykDCRP3fwJ30BmYw/gyfUnkKDkD/GmaHWx1uWP83UZ93NNKA/PACie6NTnj91cr9UVWqfPxOKsSmSjJ0/HEP1IidIpD8SS30VPPWeP+DQQDzjtKE/0pVMGrnipD89/Nu+aTSnP8vcycJ7C68/8cxDL76csj+f4HdVfsKwP6ud7oQZsrA/+okjUccPsT8qftR6bmaxP5VqLi15va8/\"},\"shape\":[24],\"dtype\":\"float64\",\"order\":\"little\"}],[\"VEHICLE THEFT\",{\"type\":\"ndarray\",\"array\":{\"type\":\"bytes\",\"data\":\"tPrZBpNEoz9yDygLdVCaP86feDko25Q/kwFnvy7OiT8JSchv7PGDPwatkhFU+oM/oR43PvCYjT+nsvFVPHyZP3cuVNmRNqI/Di/b2SrboT9UgGxFgb+gP4SWSBebDp4//8O8MZcbpj8sZQq6gW2fP+prvoAmbKI/Ft+XVQm9pT8UHLviB8upPzyXdvJCIrE/jitBkNXetD8w5nsVdlOyP7iZ0tqpMbM/JqiKbUh5sj/mKpocu3uzP0Vu2oKK/rA/\"},\"shape\":[24],\"dtype\":\"float64\",\"order\":\"little\"}],[\"WEAPON LAWS\",{\"type\":\"ndarray\",\"array\":{\"type\":\"bytes\",\"data\":\"utux2RtJqz/4V/ueOXWkP0CzzrdX36E/Xvjf1xAKlj9h63aR4uyOP3gURYDkqoA/FQIC4GhMiD80wKbCd+KUP0OmZXEpwpo/jRXXKyfroD9nf91QybihP5a+S8ETgqQ/AzeF8jmzqD+gAss1imyoP1HPoiQdZqg/bd6ehsLpqz9LtM8njAWuP+fkCoxSa60/2bvN2F7Hrz/UGY6eI9KtP+Pd1TChyas/5HjgDysdrD+JUpAJ3hmvPw0WD0Y68aw/\"},\"shape\":[24],\"dtype\":\"float64\",\"order\":\"little\"}]]}}},\"view\":{\"type\":\"object\",\"name\":\"CDSView\",\"id\":\"p1253\",\"attributes\":{\"filter\":{\"type\":\"object\",\"name\":\"AllIndices\",\"id\":\"p1254\"}}},\"glyph\":{\"type\":\"object\",\"name\":\"VBar\",\"id\":\"p1249\",\"attributes\":{\"x\":{\"type\":\"field\",\"field\":\"Hour\"},\"width\":{\"type\":\"value\",\"value\":0.9},\"top\":{\"type\":\"field\",\"field\":\"DISORDERLY CONDUCT\"},\"line_color\":{\"type\":\"value\",\"value\":\"#3182bd\"},\"fill_color\":{\"type\":\"value\",\"value\":\"#3182bd\"},\"hatch_color\":{\"type\":\"value\",\"value\":\"#3182bd\"}}},\"nonselection_glyph\":{\"type\":\"object\",\"name\":\"VBar\",\"id\":\"p1250\",\"attributes\":{\"x\":{\"type\":\"field\",\"field\":\"Hour\"},\"width\":{\"type\":\"value\",\"value\":0.9},\"top\":{\"type\":\"field\",\"field\":\"DISORDERLY CONDUCT\"},\"line_color\":{\"type\":\"value\",\"value\":\"#3182bd\"},\"line_alpha\":{\"type\":\"value\",\"value\":0.1},\"fill_color\":{\"type\":\"value\",\"value\":\"#3182bd\"},\"fill_alpha\":{\"type\":\"value\",\"value\":0.1},\"hatch_color\":{\"type\":\"value\",\"value\":\"#3182bd\"},\"hatch_alpha\":{\"type\":\"value\",\"value\":0.1}}},\"muted_glyph\":{\"type\":\"object\",\"name\":\"VBar\",\"id\":\"p1251\",\"attributes\":{\"x\":{\"type\":\"field\",\"field\":\"Hour\"},\"width\":{\"type\":\"value\",\"value\":0.9},\"top\":{\"type\":\"field\",\"field\":\"DISORDERLY CONDUCT\"},\"line_color\":{\"type\":\"value\",\"value\":\"#3182bd\"},\"line_alpha\":{\"type\":\"value\",\"value\":0.2},\"fill_color\":{\"type\":\"value\",\"value\":\"#3182bd\"},\"fill_alpha\":{\"type\":\"value\",\"value\":0.2},\"hatch_color\":{\"type\":\"value\",\"value\":\"#3182bd\"},\"hatch_alpha\":{\"type\":\"value\",\"value\":0.2}}}}},{\"type\":\"object\",\"name\":\"GlyphRenderer\",\"id\":\"p1261\",\"attributes\":{\"data_source\":{\"id\":\"p1209\"},\"view\":{\"type\":\"object\",\"name\":\"CDSView\",\"id\":\"p1262\",\"attributes\":{\"filter\":{\"type\":\"object\",\"name\":\"AllIndices\",\"id\":\"p1263\"}}},\"glyph\":{\"type\":\"object\",\"name\":\"VBar\",\"id\":\"p1258\",\"attributes\":{\"x\":{\"type\":\"field\",\"field\":\"Hour\"},\"width\":{\"type\":\"value\",\"value\":0.9},\"top\":{\"type\":\"field\",\"field\":\"TRESPASS\"},\"line_color\":{\"type\":\"value\",\"value\":\"#6baed6\"},\"fill_color\":{\"type\":\"value\",\"value\":\"#6baed6\"},\"hatch_color\":{\"type\":\"value\",\"value\":\"#6baed6\"}}},\"nonselection_glyph\":{\"type\":\"object\",\"name\":\"VBar\",\"id\":\"p1259\",\"attributes\":{\"x\":{\"type\":\"field\",\"field\":\"Hour\"},\"width\":{\"type\":\"value\",\"value\":0.9},\"top\":{\"type\":\"field\",\"field\":\"TRESPASS\"},\"line_color\":{\"type\":\"value\",\"value\":\"#6baed6\"},\"line_alpha\":{\"type\":\"value\",\"value\":0.1},\"fill_color\":{\"type\":\"value\",\"value\":\"#6baed6\"},\"fill_alpha\":{\"type\":\"value\",\"value\":0.1},\"hatch_color\":{\"type\":\"value\",\"value\":\"#6baed6\"},\"hatch_alpha\":{\"type\":\"value\",\"value\":0.1}}},\"muted_glyph\":{\"type\":\"object\",\"name\":\"VBar\",\"id\":\"p1260\",\"attributes\":{\"x\":{\"type\":\"field\",\"field\":\"Hour\"},\"width\":{\"type\":\"value\",\"value\":0.9},\"top\":{\"type\":\"field\",\"field\":\"TRESPASS\"},\"line_color\":{\"type\":\"value\",\"value\":\"#6baed6\"},\"line_alpha\":{\"type\":\"value\",\"value\":0.2},\"fill_color\":{\"type\":\"value\",\"value\":\"#6baed6\"},\"fill_alpha\":{\"type\":\"value\",\"value\":0.2},\"hatch_color\":{\"type\":\"value\",\"value\":\"#6baed6\"},\"hatch_alpha\":{\"type\":\"value\",\"value\":0.2}}}}},{\"type\":\"object\",\"name\":\"GlyphRenderer\",\"id\":\"p1270\",\"attributes\":{\"data_source\":{\"id\":\"p1209\"},\"view\":{\"type\":\"object\",\"name\":\"CDSView\",\"id\":\"p1271\",\"attributes\":{\"filter\":{\"type\":\"object\",\"name\":\"AllIndices\",\"id\":\"p1272\"}}},\"glyph\":{\"type\":\"object\",\"name\":\"VBar\",\"id\":\"p1267\",\"attributes\":{\"x\":{\"type\":\"field\",\"field\":\"Hour\"},\"width\":{\"type\":\"value\",\"value\":0.9},\"top\":{\"type\":\"field\",\"field\":\"BURGLARY\"},\"line_color\":{\"type\":\"value\",\"value\":\"#9ecae1\"},\"fill_color\":{\"type\":\"value\",\"value\":\"#9ecae1\"},\"hatch_color\":{\"type\":\"value\",\"value\":\"#9ecae1\"}}},\"nonselection_glyph\":{\"type\":\"object\",\"name\":\"VBar\",\"id\":\"p1268\",\"attributes\":{\"x\":{\"type\":\"field\",\"field\":\"Hour\"},\"width\":{\"type\":\"value\",\"value\":0.9},\"top\":{\"type\":\"field\",\"field\":\"BURGLARY\"},\"line_color\":{\"type\":\"value\",\"value\":\"#9ecae1\"},\"line_alpha\":{\"type\":\"value\",\"value\":0.1},\"fill_color\":{\"type\":\"value\",\"value\":\"#9ecae1\"},\"fill_alpha\":{\"type\":\"value\",\"value\":0.1},\"hatch_color\":{\"type\":\"value\",\"value\":\"#9ecae1\"},\"hatch_alpha\":{\"type\":\"value\",\"value\":0.1}}},\"muted_glyph\":{\"type\":\"object\",\"name\":\"VBar\",\"id\":\"p1269\",\"attributes\":{\"x\":{\"type\":\"field\",\"field\":\"Hour\"},\"width\":{\"type\":\"value\",\"value\":0.9},\"top\":{\"type\":\"field\",\"field\":\"BURGLARY\"},\"line_color\":{\"type\":\"value\",\"value\":\"#9ecae1\"},\"line_alpha\":{\"type\":\"value\",\"value\":0.2},\"fill_color\":{\"type\":\"value\",\"value\":\"#9ecae1\"},\"fill_alpha\":{\"type\":\"value\",\"value\":0.2},\"hatch_color\":{\"type\":\"value\",\"value\":\"#9ecae1\"},\"hatch_alpha\":{\"type\":\"value\",\"value\":0.2}}}}},{\"type\":\"object\",\"name\":\"GlyphRenderer\",\"id\":\"p1279\",\"attributes\":{\"data_source\":{\"id\":\"p1209\"},\"view\":{\"type\":\"object\",\"name\":\"CDSView\",\"id\":\"p1280\",\"attributes\":{\"filter\":{\"type\":\"object\",\"name\":\"AllIndices\",\"id\":\"p1281\"}}},\"glyph\":{\"type\":\"object\",\"name\":\"VBar\",\"id\":\"p1276\",\"attributes\":{\"x\":{\"type\":\"field\",\"field\":\"Hour\"},\"width\":{\"type\":\"value\",\"value\":0.9},\"top\":{\"type\":\"field\",\"field\":\"PROSTITUTION\"},\"line_color\":{\"type\":\"value\",\"value\":\"#c6dbef\"},\"fill_color\":{\"type\":\"value\",\"value\":\"#c6dbef\"},\"hatch_color\":{\"type\":\"value\",\"value\":\"#c6dbef\"}}},\"nonselection_glyph\":{\"type\":\"object\",\"name\":\"VBar\",\"id\":\"p1277\",\"attributes\":{\"x\":{\"type\":\"field\",\"field\":\"Hour\"},\"width\":{\"type\":\"value\",\"value\":0.9},\"top\":{\"type\":\"field\",\"field\":\"PROSTITUTION\"},\"line_color\":{\"type\":\"value\",\"value\":\"#c6dbef\"},\"line_alpha\":{\"type\":\"value\",\"value\":0.1},\"fill_color\":{\"type\":\"value\",\"value\":\"#c6dbef\"},\"fill_alpha\":{\"type\":\"value\",\"value\":0.1},\"hatch_color\":{\"type\":\"value\",\"value\":\"#c6dbef\"},\"hatch_alpha\":{\"type\":\"value\",\"value\":0.1}}},\"muted_glyph\":{\"type\":\"object\",\"name\":\"VBar\",\"id\":\"p1278\",\"attributes\":{\"x\":{\"type\":\"field\",\"field\":\"Hour\"},\"width\":{\"type\":\"value\",\"value\":0.9},\"top\":{\"type\":\"field\",\"field\":\"PROSTITUTION\"},\"line_color\":{\"type\":\"value\",\"value\":\"#c6dbef\"},\"line_alpha\":{\"type\":\"value\",\"value\":0.2},\"fill_color\":{\"type\":\"value\",\"value\":\"#c6dbef\"},\"fill_alpha\":{\"type\":\"value\",\"value\":0.2},\"hatch_color\":{\"type\":\"value\",\"value\":\"#c6dbef\"},\"hatch_alpha\":{\"type\":\"value\",\"value\":0.2}}}}},{\"type\":\"object\",\"name\":\"GlyphRenderer\",\"id\":\"p1288\",\"attributes\":{\"data_source\":{\"id\":\"p1209\"},\"view\":{\"type\":\"object\",\"name\":\"CDSView\",\"id\":\"p1289\",\"attributes\":{\"filter\":{\"type\":\"object\",\"name\":\"AllIndices\",\"id\":\"p1290\"}}},\"glyph\":{\"type\":\"object\",\"name\":\"VBar\",\"id\":\"p1285\",\"attributes\":{\"x\":{\"type\":\"field\",\"field\":\"Hour\"},\"width\":{\"type\":\"value\",\"value\":0.9},\"top\":{\"type\":\"field\",\"field\":\"ASSAULT\"},\"line_color\":{\"type\":\"value\",\"value\":\"#e6550d\"},\"fill_color\":{\"type\":\"value\",\"value\":\"#e6550d\"},\"hatch_color\":{\"type\":\"value\",\"value\":\"#e6550d\"}}},\"nonselection_glyph\":{\"type\":\"object\",\"name\":\"VBar\",\"id\":\"p1286\",\"attributes\":{\"x\":{\"type\":\"field\",\"field\":\"Hour\"},\"width\":{\"type\":\"value\",\"value\":0.9},\"top\":{\"type\":\"field\",\"field\":\"ASSAULT\"},\"line_color\":{\"type\":\"value\",\"value\":\"#e6550d\"},\"line_alpha\":{\"type\":\"value\",\"value\":0.1},\"fill_color\":{\"type\":\"value\",\"value\":\"#e6550d\"},\"fill_alpha\":{\"type\":\"value\",\"value\":0.1},\"hatch_color\":{\"type\":\"value\",\"value\":\"#e6550d\"},\"hatch_alpha\":{\"type\":\"value\",\"value\":0.1}}},\"muted_glyph\":{\"type\":\"object\",\"name\":\"VBar\",\"id\":\"p1287\",\"attributes\":{\"x\":{\"type\":\"field\",\"field\":\"Hour\"},\"width\":{\"type\":\"value\",\"value\":0.9},\"top\":{\"type\":\"field\",\"field\":\"ASSAULT\"},\"line_color\":{\"type\":\"value\",\"value\":\"#e6550d\"},\"line_alpha\":{\"type\":\"value\",\"value\":0.2},\"fill_color\":{\"type\":\"value\",\"value\":\"#e6550d\"},\"fill_alpha\":{\"type\":\"value\",\"value\":0.2},\"hatch_color\":{\"type\":\"value\",\"value\":\"#e6550d\"},\"hatch_alpha\":{\"type\":\"value\",\"value\":0.2}}}}},{\"type\":\"object\",\"name\":\"GlyphRenderer\",\"id\":\"p1297\",\"attributes\":{\"data_source\":{\"id\":\"p1209\"},\"view\":{\"type\":\"object\",\"name\":\"CDSView\",\"id\":\"p1298\",\"attributes\":{\"filter\":{\"type\":\"object\",\"name\":\"AllIndices\",\"id\":\"p1299\"}}},\"glyph\":{\"type\":\"object\",\"name\":\"VBar\",\"id\":\"p1294\",\"attributes\":{\"x\":{\"type\":\"field\",\"field\":\"Hour\"},\"width\":{\"type\":\"value\",\"value\":0.9},\"top\":{\"type\":\"field\",\"field\":\"DRUNKENNESS\"},\"line_color\":{\"type\":\"value\",\"value\":\"#fd8d3c\"},\"fill_color\":{\"type\":\"value\",\"value\":\"#fd8d3c\"},\"hatch_color\":{\"type\":\"value\",\"value\":\"#fd8d3c\"}}},\"nonselection_glyph\":{\"type\":\"object\",\"name\":\"VBar\",\"id\":\"p1295\",\"attributes\":{\"x\":{\"type\":\"field\",\"field\":\"Hour\"},\"width\":{\"type\":\"value\",\"value\":0.9},\"top\":{\"type\":\"field\",\"field\":\"DRUNKENNESS\"},\"line_color\":{\"type\":\"value\",\"value\":\"#fd8d3c\"},\"line_alpha\":{\"type\":\"value\",\"value\":0.1},\"fill_color\":{\"type\":\"value\",\"value\":\"#fd8d3c\"},\"fill_alpha\":{\"type\":\"value\",\"value\":0.1},\"hatch_color\":{\"type\":\"value\",\"value\":\"#fd8d3c\"},\"hatch_alpha\":{\"type\":\"value\",\"value\":0.1}}},\"muted_glyph\":{\"type\":\"object\",\"name\":\"VBar\",\"id\":\"p1296\",\"attributes\":{\"x\":{\"type\":\"field\",\"field\":\"Hour\"},\"width\":{\"type\":\"value\",\"value\":0.9},\"top\":{\"type\":\"field\",\"field\":\"DRUNKENNESS\"},\"line_color\":{\"type\":\"value\",\"value\":\"#fd8d3c\"},\"line_alpha\":{\"type\":\"value\",\"value\":0.2},\"fill_color\":{\"type\":\"value\",\"value\":\"#fd8d3c\"},\"fill_alpha\":{\"type\":\"value\",\"value\":0.2},\"hatch_color\":{\"type\":\"value\",\"value\":\"#fd8d3c\"},\"hatch_alpha\":{\"type\":\"value\",\"value\":0.2}}}}},{\"type\":\"object\",\"name\":\"GlyphRenderer\",\"id\":\"p1306\",\"attributes\":{\"data_source\":{\"id\":\"p1209\"},\"view\":{\"type\":\"object\",\"name\":\"CDSView\",\"id\":\"p1307\",\"attributes\":{\"filter\":{\"type\":\"object\",\"name\":\"AllIndices\",\"id\":\"p1308\"}}},\"glyph\":{\"type\":\"object\",\"name\":\"VBar\",\"id\":\"p1303\",\"attributes\":{\"x\":{\"type\":\"field\",\"field\":\"Hour\"},\"width\":{\"type\":\"value\",\"value\":0.9},\"top\":{\"type\":\"field\",\"field\":\"VANDALISM\"},\"line_color\":{\"type\":\"value\",\"value\":\"#fdae6b\"},\"fill_color\":{\"type\":\"value\",\"value\":\"#fdae6b\"},\"hatch_color\":{\"type\":\"value\",\"value\":\"#fdae6b\"}}},\"nonselection_glyph\":{\"type\":\"object\",\"name\":\"VBar\",\"id\":\"p1304\",\"attributes\":{\"x\":{\"type\":\"field\",\"field\":\"Hour\"},\"width\":{\"type\":\"value\",\"value\":0.9},\"top\":{\"type\":\"field\",\"field\":\"VANDALISM\"},\"line_color\":{\"type\":\"value\",\"value\":\"#fdae6b\"},\"line_alpha\":{\"type\":\"value\",\"value\":0.1},\"fill_color\":{\"type\":\"value\",\"value\":\"#fdae6b\"},\"fill_alpha\":{\"type\":\"value\",\"value\":0.1},\"hatch_color\":{\"type\":\"value\",\"value\":\"#fdae6b\"},\"hatch_alpha\":{\"type\":\"value\",\"value\":0.1}}},\"muted_glyph\":{\"type\":\"object\",\"name\":\"VBar\",\"id\":\"p1305\",\"attributes\":{\"x\":{\"type\":\"field\",\"field\":\"Hour\"},\"width\":{\"type\":\"value\",\"value\":0.9},\"top\":{\"type\":\"field\",\"field\":\"VANDALISM\"},\"line_color\":{\"type\":\"value\",\"value\":\"#fdae6b\"},\"line_alpha\":{\"type\":\"value\",\"value\":0.2},\"fill_color\":{\"type\":\"value\",\"value\":\"#fdae6b\"},\"fill_alpha\":{\"type\":\"value\",\"value\":0.2},\"hatch_color\":{\"type\":\"value\",\"value\":\"#fdae6b\"},\"hatch_alpha\":{\"type\":\"value\",\"value\":0.2}}}}},{\"type\":\"object\",\"name\":\"GlyphRenderer\",\"id\":\"p1315\",\"attributes\":{\"data_source\":{\"id\":\"p1209\"},\"view\":{\"type\":\"object\",\"name\":\"CDSView\",\"id\":\"p1316\",\"attributes\":{\"filter\":{\"type\":\"object\",\"name\":\"AllIndices\",\"id\":\"p1317\"}}},\"glyph\":{\"type\":\"object\",\"name\":\"VBar\",\"id\":\"p1312\",\"attributes\":{\"x\":{\"type\":\"field\",\"field\":\"Hour\"},\"width\":{\"type\":\"value\",\"value\":0.9},\"top\":{\"type\":\"field\",\"field\":\"ROBBERY\"},\"line_color\":{\"type\":\"value\",\"value\":\"#fdd0a2\"},\"fill_color\":{\"type\":\"value\",\"value\":\"#fdd0a2\"},\"hatch_color\":{\"type\":\"value\",\"value\":\"#fdd0a2\"}}},\"nonselection_glyph\":{\"type\":\"object\",\"name\":\"VBar\",\"id\":\"p1313\",\"attributes\":{\"x\":{\"type\":\"field\",\"field\":\"Hour\"},\"width\":{\"type\":\"value\",\"value\":0.9},\"top\":{\"type\":\"field\",\"field\":\"ROBBERY\"},\"line_color\":{\"type\":\"value\",\"value\":\"#fdd0a2\"},\"line_alpha\":{\"type\":\"value\",\"value\":0.1},\"fill_color\":{\"type\":\"value\",\"value\":\"#fdd0a2\"},\"fill_alpha\":{\"type\":\"value\",\"value\":0.1},\"hatch_color\":{\"type\":\"value\",\"value\":\"#fdd0a2\"},\"hatch_alpha\":{\"type\":\"value\",\"value\":0.1}}},\"muted_glyph\":{\"type\":\"object\",\"name\":\"VBar\",\"id\":\"p1314\",\"attributes\":{\"x\":{\"type\":\"field\",\"field\":\"Hour\"},\"width\":{\"type\":\"value\",\"value\":0.9},\"top\":{\"type\":\"field\",\"field\":\"ROBBERY\"},\"line_color\":{\"type\":\"value\",\"value\":\"#fdd0a2\"},\"line_alpha\":{\"type\":\"value\",\"value\":0.2},\"fill_color\":{\"type\":\"value\",\"value\":\"#fdd0a2\"},\"fill_alpha\":{\"type\":\"value\",\"value\":0.2},\"hatch_color\":{\"type\":\"value\",\"value\":\"#fdd0a2\"},\"hatch_alpha\":{\"type\":\"value\",\"value\":0.2}}}}},{\"type\":\"object\",\"name\":\"GlyphRenderer\",\"id\":\"p1324\",\"attributes\":{\"data_source\":{\"id\":\"p1209\"},\"view\":{\"type\":\"object\",\"name\":\"CDSView\",\"id\":\"p1325\",\"attributes\":{\"filter\":{\"type\":\"object\",\"name\":\"AllIndices\",\"id\":\"p1326\"}}},\"glyph\":{\"type\":\"object\",\"name\":\"VBar\",\"id\":\"p1321\",\"attributes\":{\"x\":{\"type\":\"field\",\"field\":\"Hour\"},\"width\":{\"type\":\"value\",\"value\":0.9},\"top\":{\"type\":\"field\",\"field\":\"DRIVING UNDER THE INFLUENCE\"},\"line_color\":{\"type\":\"value\",\"value\":\"#31a354\"},\"fill_color\":{\"type\":\"value\",\"value\":\"#31a354\"},\"hatch_color\":{\"type\":\"value\",\"value\":\"#31a354\"}}},\"nonselection_glyph\":{\"type\":\"object\",\"name\":\"VBar\",\"id\":\"p1322\",\"attributes\":{\"x\":{\"type\":\"field\",\"field\":\"Hour\"},\"width\":{\"type\":\"value\",\"value\":0.9},\"top\":{\"type\":\"field\",\"field\":\"DRIVING UNDER THE INFLUENCE\"},\"line_color\":{\"type\":\"value\",\"value\":\"#31a354\"},\"line_alpha\":{\"type\":\"value\",\"value\":0.1},\"fill_color\":{\"type\":\"value\",\"value\":\"#31a354\"},\"fill_alpha\":{\"type\":\"value\",\"value\":0.1},\"hatch_color\":{\"type\":\"value\",\"value\":\"#31a354\"},\"hatch_alpha\":{\"type\":\"value\",\"value\":0.1}}},\"muted_glyph\":{\"type\":\"object\",\"name\":\"VBar\",\"id\":\"p1323\",\"attributes\":{\"x\":{\"type\":\"field\",\"field\":\"Hour\"},\"width\":{\"type\":\"value\",\"value\":0.9},\"top\":{\"type\":\"field\",\"field\":\"DRIVING UNDER THE INFLUENCE\"},\"line_color\":{\"type\":\"value\",\"value\":\"#31a354\"},\"line_alpha\":{\"type\":\"value\",\"value\":0.2},\"fill_color\":{\"type\":\"value\",\"value\":\"#31a354\"},\"fill_alpha\":{\"type\":\"value\",\"value\":0.2},\"hatch_color\":{\"type\":\"value\",\"value\":\"#31a354\"},\"hatch_alpha\":{\"type\":\"value\",\"value\":0.2}}}}},{\"type\":\"object\",\"name\":\"GlyphRenderer\",\"id\":\"p1333\",\"attributes\":{\"data_source\":{\"id\":\"p1209\"},\"view\":{\"type\":\"object\",\"name\":\"CDSView\",\"id\":\"p1334\",\"attributes\":{\"filter\":{\"type\":\"object\",\"name\":\"AllIndices\",\"id\":\"p1335\"}}},\"glyph\":{\"type\":\"object\",\"name\":\"VBar\",\"id\":\"p1330\",\"attributes\":{\"x\":{\"type\":\"field\",\"field\":\"Hour\"},\"width\":{\"type\":\"value\",\"value\":0.9},\"top\":{\"type\":\"field\",\"field\":\"WEAPON LAWS\"},\"line_color\":{\"type\":\"value\",\"value\":\"#74c476\"},\"fill_color\":{\"type\":\"value\",\"value\":\"#74c476\"},\"hatch_color\":{\"type\":\"value\",\"value\":\"#74c476\"}}},\"nonselection_glyph\":{\"type\":\"object\",\"name\":\"VBar\",\"id\":\"p1331\",\"attributes\":{\"x\":{\"type\":\"field\",\"field\":\"Hour\"},\"width\":{\"type\":\"value\",\"value\":0.9},\"top\":{\"type\":\"field\",\"field\":\"WEAPON LAWS\"},\"line_color\":{\"type\":\"value\",\"value\":\"#74c476\"},\"line_alpha\":{\"type\":\"value\",\"value\":0.1},\"fill_color\":{\"type\":\"value\",\"value\":\"#74c476\"},\"fill_alpha\":{\"type\":\"value\",\"value\":0.1},\"hatch_color\":{\"type\":\"value\",\"value\":\"#74c476\"},\"hatch_alpha\":{\"type\":\"value\",\"value\":0.1}}},\"muted_glyph\":{\"type\":\"object\",\"name\":\"VBar\",\"id\":\"p1332\",\"attributes\":{\"x\":{\"type\":\"field\",\"field\":\"Hour\"},\"width\":{\"type\":\"value\",\"value\":0.9},\"top\":{\"type\":\"field\",\"field\":\"WEAPON LAWS\"},\"line_color\":{\"type\":\"value\",\"value\":\"#74c476\"},\"line_alpha\":{\"type\":\"value\",\"value\":0.2},\"fill_color\":{\"type\":\"value\",\"value\":\"#74c476\"},\"fill_alpha\":{\"type\":\"value\",\"value\":0.2},\"hatch_color\":{\"type\":\"value\",\"value\":\"#74c476\"},\"hatch_alpha\":{\"type\":\"value\",\"value\":0.2}}}}},{\"type\":\"object\",\"name\":\"GlyphRenderer\",\"id\":\"p1342\",\"attributes\":{\"data_source\":{\"id\":\"p1209\"},\"view\":{\"type\":\"object\",\"name\":\"CDSView\",\"id\":\"p1343\",\"attributes\":{\"filter\":{\"type\":\"object\",\"name\":\"AllIndices\",\"id\":\"p1344\"}}},\"glyph\":{\"type\":\"object\",\"name\":\"VBar\",\"id\":\"p1339\",\"attributes\":{\"x\":{\"type\":\"field\",\"field\":\"Hour\"},\"width\":{\"type\":\"value\",\"value\":0.9},\"top\":{\"type\":\"field\",\"field\":\"DRUG/NARCOTIC\"},\"line_color\":{\"type\":\"value\",\"value\":\"#a1d99b\"},\"fill_color\":{\"type\":\"value\",\"value\":\"#a1d99b\"},\"hatch_color\":{\"type\":\"value\",\"value\":\"#a1d99b\"}}},\"nonselection_glyph\":{\"type\":\"object\",\"name\":\"VBar\",\"id\":\"p1340\",\"attributes\":{\"x\":{\"type\":\"field\",\"field\":\"Hour\"},\"width\":{\"type\":\"value\",\"value\":0.9},\"top\":{\"type\":\"field\",\"field\":\"DRUG/NARCOTIC\"},\"line_color\":{\"type\":\"value\",\"value\":\"#a1d99b\"},\"line_alpha\":{\"type\":\"value\",\"value\":0.1},\"fill_color\":{\"type\":\"value\",\"value\":\"#a1d99b\"},\"fill_alpha\":{\"type\":\"value\",\"value\":0.1},\"hatch_color\":{\"type\":\"value\",\"value\":\"#a1d99b\"},\"hatch_alpha\":{\"type\":\"value\",\"value\":0.1}}},\"muted_glyph\":{\"type\":\"object\",\"name\":\"VBar\",\"id\":\"p1341\",\"attributes\":{\"x\":{\"type\":\"field\",\"field\":\"Hour\"},\"width\":{\"type\":\"value\",\"value\":0.9},\"top\":{\"type\":\"field\",\"field\":\"DRUG/NARCOTIC\"},\"line_color\":{\"type\":\"value\",\"value\":\"#a1d99b\"},\"line_alpha\":{\"type\":\"value\",\"value\":0.2},\"fill_color\":{\"type\":\"value\",\"value\":\"#a1d99b\"},\"fill_alpha\":{\"type\":\"value\",\"value\":0.2},\"hatch_color\":{\"type\":\"value\",\"value\":\"#a1d99b\"},\"hatch_alpha\":{\"type\":\"value\",\"value\":0.2}}}}},{\"type\":\"object\",\"name\":\"GlyphRenderer\",\"id\":\"p1351\",\"attributes\":{\"data_source\":{\"id\":\"p1209\"},\"view\":{\"type\":\"object\",\"name\":\"CDSView\",\"id\":\"p1352\",\"attributes\":{\"filter\":{\"type\":\"object\",\"name\":\"AllIndices\",\"id\":\"p1353\"}}},\"glyph\":{\"type\":\"object\",\"name\":\"VBar\",\"id\":\"p1348\",\"attributes\":{\"x\":{\"type\":\"field\",\"field\":\"Hour\"},\"width\":{\"type\":\"value\",\"value\":0.9},\"top\":{\"type\":\"field\",\"field\":\"VEHICLE THEFT\"},\"line_color\":{\"type\":\"value\",\"value\":\"#c7e9c0\"},\"fill_color\":{\"type\":\"value\",\"value\":\"#c7e9c0\"},\"hatch_color\":{\"type\":\"value\",\"value\":\"#c7e9c0\"}}},\"nonselection_glyph\":{\"type\":\"object\",\"name\":\"VBar\",\"id\":\"p1349\",\"attributes\":{\"x\":{\"type\":\"field\",\"field\":\"Hour\"},\"width\":{\"type\":\"value\",\"value\":0.9},\"top\":{\"type\":\"field\",\"field\":\"VEHICLE THEFT\"},\"line_color\":{\"type\":\"value\",\"value\":\"#c7e9c0\"},\"line_alpha\":{\"type\":\"value\",\"value\":0.1},\"fill_color\":{\"type\":\"value\",\"value\":\"#c7e9c0\"},\"fill_alpha\":{\"type\":\"value\",\"value\":0.1},\"hatch_color\":{\"type\":\"value\",\"value\":\"#c7e9c0\"},\"hatch_alpha\":{\"type\":\"value\",\"value\":0.1}}},\"muted_glyph\":{\"type\":\"object\",\"name\":\"VBar\",\"id\":\"p1350\",\"attributes\":{\"x\":{\"type\":\"field\",\"field\":\"Hour\"},\"width\":{\"type\":\"value\",\"value\":0.9},\"top\":{\"type\":\"field\",\"field\":\"VEHICLE THEFT\"},\"line_color\":{\"type\":\"value\",\"value\":\"#c7e9c0\"},\"line_alpha\":{\"type\":\"value\",\"value\":0.2},\"fill_color\":{\"type\":\"value\",\"value\":\"#c7e9c0\"},\"fill_alpha\":{\"type\":\"value\",\"value\":0.2},\"hatch_color\":{\"type\":\"value\",\"value\":\"#c7e9c0\"},\"hatch_alpha\":{\"type\":\"value\",\"value\":0.2}}}}},{\"type\":\"object\",\"name\":\"GlyphRenderer\",\"id\":\"p1360\",\"attributes\":{\"data_source\":{\"id\":\"p1209\"},\"view\":{\"type\":\"object\",\"name\":\"CDSView\",\"id\":\"p1361\",\"attributes\":{\"filter\":{\"type\":\"object\",\"name\":\"AllIndices\",\"id\":\"p1362\"}}},\"glyph\":{\"type\":\"object\",\"name\":\"VBar\",\"id\":\"p1357\",\"attributes\":{\"x\":{\"type\":\"field\",\"field\":\"Hour\"},\"width\":{\"type\":\"value\",\"value\":0.9},\"top\":{\"type\":\"field\",\"field\":\"LARCENY/THEFT\"},\"line_color\":{\"type\":\"value\",\"value\":\"#756bb1\"},\"fill_color\":{\"type\":\"value\",\"value\":\"#756bb1\"},\"hatch_color\":{\"type\":\"value\",\"value\":\"#756bb1\"}}},\"nonselection_glyph\":{\"type\":\"object\",\"name\":\"VBar\",\"id\":\"p1358\",\"attributes\":{\"x\":{\"type\":\"field\",\"field\":\"Hour\"},\"width\":{\"type\":\"value\",\"value\":0.9},\"top\":{\"type\":\"field\",\"field\":\"LARCENY/THEFT\"},\"line_color\":{\"type\":\"value\",\"value\":\"#756bb1\"},\"line_alpha\":{\"type\":\"value\",\"value\":0.1},\"fill_color\":{\"type\":\"value\",\"value\":\"#756bb1\"},\"fill_alpha\":{\"type\":\"value\",\"value\":0.1},\"hatch_color\":{\"type\":\"value\",\"value\":\"#756bb1\"},\"hatch_alpha\":{\"type\":\"value\",\"value\":0.1}}},\"muted_glyph\":{\"type\":\"object\",\"name\":\"VBar\",\"id\":\"p1359\",\"attributes\":{\"x\":{\"type\":\"field\",\"field\":\"Hour\"},\"width\":{\"type\":\"value\",\"value\":0.9},\"top\":{\"type\":\"field\",\"field\":\"LARCENY/THEFT\"},\"line_color\":{\"type\":\"value\",\"value\":\"#756bb1\"},\"line_alpha\":{\"type\":\"value\",\"value\":0.2},\"fill_color\":{\"type\":\"value\",\"value\":\"#756bb1\"},\"fill_alpha\":{\"type\":\"value\",\"value\":0.2},\"hatch_color\":{\"type\":\"value\",\"value\":\"#756bb1\"},\"hatch_alpha\":{\"type\":\"value\",\"value\":0.2}}}}},{\"type\":\"object\",\"name\":\"GlyphRenderer\",\"id\":\"p1369\",\"attributes\":{\"data_source\":{\"id\":\"p1209\"},\"view\":{\"type\":\"object\",\"name\":\"CDSView\",\"id\":\"p1370\",\"attributes\":{\"filter\":{\"type\":\"object\",\"name\":\"AllIndices\",\"id\":\"p1371\"}}},\"glyph\":{\"type\":\"object\",\"name\":\"VBar\",\"id\":\"p1366\",\"attributes\":{\"x\":{\"type\":\"field\",\"field\":\"Hour\"},\"width\":{\"type\":\"value\",\"value\":0.9},\"top\":{\"type\":\"field\",\"field\":\"STOLEN PROPERTY\"},\"line_color\":{\"type\":\"value\",\"value\":\"#9e9ac8\"},\"fill_color\":{\"type\":\"value\",\"value\":\"#9e9ac8\"},\"hatch_color\":{\"type\":\"value\",\"value\":\"#9e9ac8\"}}},\"nonselection_glyph\":{\"type\":\"object\",\"name\":\"VBar\",\"id\":\"p1367\",\"attributes\":{\"x\":{\"type\":\"field\",\"field\":\"Hour\"},\"width\":{\"type\":\"value\",\"value\":0.9},\"top\":{\"type\":\"field\",\"field\":\"STOLEN PROPERTY\"},\"line_color\":{\"type\":\"value\",\"value\":\"#9e9ac8\"},\"line_alpha\":{\"type\":\"value\",\"value\":0.1},\"fill_color\":{\"type\":\"value\",\"value\":\"#9e9ac8\"},\"fill_alpha\":{\"type\":\"value\",\"value\":0.1},\"hatch_color\":{\"type\":\"value\",\"value\":\"#9e9ac8\"},\"hatch_alpha\":{\"type\":\"value\",\"value\":0.1}}},\"muted_glyph\":{\"type\":\"object\",\"name\":\"VBar\",\"id\":\"p1368\",\"attributes\":{\"x\":{\"type\":\"field\",\"field\":\"Hour\"},\"width\":{\"type\":\"value\",\"value\":0.9},\"top\":{\"type\":\"field\",\"field\":\"STOLEN PROPERTY\"},\"line_color\":{\"type\":\"value\",\"value\":\"#9e9ac8\"},\"line_alpha\":{\"type\":\"value\",\"value\":0.2},\"fill_color\":{\"type\":\"value\",\"value\":\"#9e9ac8\"},\"fill_alpha\":{\"type\":\"value\",\"value\":0.2},\"hatch_color\":{\"type\":\"value\",\"value\":\"#9e9ac8\"},\"hatch_alpha\":{\"type\":\"value\",\"value\":0.2}}}}}],\"toolbar\":{\"type\":\"object\",\"name\":\"Toolbar\",\"id\":\"p1222\",\"attributes\":{\"tools\":[{\"type\":\"object\",\"name\":\"PanTool\",\"id\":\"p1235\"},{\"type\":\"object\",\"name\":\"WheelZoomTool\",\"id\":\"p1236\",\"attributes\":{\"renderers\":\"auto\"}},{\"type\":\"object\",\"name\":\"BoxZoomTool\",\"id\":\"p1237\",\"attributes\":{\"overlay\":{\"type\":\"object\",\"name\":\"BoxAnnotation\",\"id\":\"p1238\",\"attributes\":{\"syncable\":false,\"level\":\"overlay\",\"visible\":false,\"left\":{\"type\":\"number\",\"value\":\"nan\"},\"right\":{\"type\":\"number\",\"value\":\"nan\"},\"top\":{\"type\":\"number\",\"value\":\"nan\"},\"bottom\":{\"type\":\"number\",\"value\":\"nan\"},\"left_units\":\"canvas\",\"right_units\":\"canvas\",\"top_units\":\"canvas\",\"bottom_units\":\"canvas\",\"line_color\":\"black\",\"line_alpha\":1.0,\"line_width\":2,\"line_dash\":[4,4],\"fill_color\":\"lightgrey\",\"fill_alpha\":0.5}}}},{\"type\":\"object\",\"name\":\"SaveTool\",\"id\":\"p1243\"},{\"type\":\"object\",\"name\":\"ResetTool\",\"id\":\"p1244\"},{\"type\":\"object\",\"name\":\"HelpTool\",\"id\":\"p1245\"}]}},\"toolbar_location\":\"above\",\"left\":[{\"type\":\"object\",\"name\":\"LinearAxis\",\"id\":\"p1230\",\"attributes\":{\"ticker\":{\"type\":\"object\",\"name\":\"BasicTicker\",\"id\":\"p1231\",\"attributes\":{\"mantissas\":[1,2,5]}},\"formatter\":{\"type\":\"object\",\"name\":\"BasicTickFormatter\",\"id\":\"p1232\"},\"major_label_policy\":{\"type\":\"object\",\"name\":\"AllLabels\",\"id\":\"p1233\"}}},{\"type\":\"object\",\"name\":\"Legend\",\"id\":\"p1372\",\"attributes\":{\"location\":[0,0],\"click_policy\":\"mute\",\"items\":[{\"type\":\"object\",\"name\":\"LegendItem\",\"id\":\"p1373\",\"attributes\":{\"label\":{\"type\":\"value\",\"value\":\"DISORDERLY CONDUCT\"},\"renderers\":[{\"id\":\"p1252\"}]}},{\"type\":\"object\",\"name\":\"LegendItem\",\"id\":\"p1374\",\"attributes\":{\"label\":{\"type\":\"value\",\"value\":\"TRESPASS\"},\"renderers\":[{\"id\":\"p1261\"}]}},{\"type\":\"object\",\"name\":\"LegendItem\",\"id\":\"p1375\",\"attributes\":{\"label\":{\"type\":\"value\",\"value\":\"BURGLARY\"},\"renderers\":[{\"id\":\"p1270\"}]}},{\"type\":\"object\",\"name\":\"LegendItem\",\"id\":\"p1376\",\"attributes\":{\"label\":{\"type\":\"value\",\"value\":\"PROSTITUTION\"},\"renderers\":[{\"id\":\"p1279\"}]}},{\"type\":\"object\",\"name\":\"LegendItem\",\"id\":\"p1377\",\"attributes\":{\"label\":{\"type\":\"value\",\"value\":\"ASSAULT\"},\"renderers\":[{\"id\":\"p1288\"}]}},{\"type\":\"object\",\"name\":\"LegendItem\",\"id\":\"p1378\",\"attributes\":{\"label\":{\"type\":\"value\",\"value\":\"DRUNKENNESS\"},\"renderers\":[{\"id\":\"p1297\"}]}},{\"type\":\"object\",\"name\":\"LegendItem\",\"id\":\"p1379\",\"attributes\":{\"label\":{\"type\":\"value\",\"value\":\"VANDALISM\"},\"renderers\":[{\"id\":\"p1306\"}]}},{\"type\":\"object\",\"name\":\"LegendItem\",\"id\":\"p1380\",\"attributes\":{\"label\":{\"type\":\"value\",\"value\":\"ROBBERY\"},\"renderers\":[{\"id\":\"p1315\"}]}},{\"type\":\"object\",\"name\":\"LegendItem\",\"id\":\"p1381\",\"attributes\":{\"label\":{\"type\":\"value\",\"value\":\"DRIVING UNDER THE INFLUENCE\"},\"renderers\":[{\"id\":\"p1324\"}]}},{\"type\":\"object\",\"name\":\"LegendItem\",\"id\":\"p1382\",\"attributes\":{\"label\":{\"type\":\"value\",\"value\":\"WEAPON LAWS\"},\"renderers\":[{\"id\":\"p1333\"}]}},{\"type\":\"object\",\"name\":\"LegendItem\",\"id\":\"p1383\",\"attributes\":{\"label\":{\"type\":\"value\",\"value\":\"DRUG/NARCOTIC\"},\"renderers\":[{\"id\":\"p1342\"}]}},{\"type\":\"object\",\"name\":\"LegendItem\",\"id\":\"p1384\",\"attributes\":{\"label\":{\"type\":\"value\",\"value\":\"VEHICLE THEFT\"},\"renderers\":[{\"id\":\"p1351\"}]}},{\"type\":\"object\",\"name\":\"LegendItem\",\"id\":\"p1385\",\"attributes\":{\"label\":{\"type\":\"value\",\"value\":\"LARCENY/THEFT\"},\"renderers\":[{\"id\":\"p1360\"}]}},{\"type\":\"object\",\"name\":\"LegendItem\",\"id\":\"p1386\",\"attributes\":{\"label\":{\"type\":\"value\",\"value\":\"STOLEN PROPERTY\"},\"renderers\":[{\"id\":\"p1369\"}]}}]}}],\"below\":[{\"type\":\"object\",\"name\":\"CategoricalAxis\",\"id\":\"p1225\",\"attributes\":{\"ticker\":{\"type\":\"object\",\"name\":\"CategoricalTicker\",\"id\":\"p1226\"},\"formatter\":{\"type\":\"object\",\"name\":\"CategoricalTickFormatter\",\"id\":\"p1227\"},\"major_label_policy\":{\"type\":\"object\",\"name\":\"AllLabels\",\"id\":\"p1228\"}}}],\"center\":[{\"type\":\"object\",\"name\":\"Grid\",\"id\":\"p1229\",\"attributes\":{\"axis\":{\"id\":\"p1225\"}}},{\"type\":\"object\",\"name\":\"Grid\",\"id\":\"p1234\",\"attributes\":{\"dimension\":1,\"axis\":{\"id\":\"p1230\"}}}]}}]}};\n  const render_items = [{\"docid\":\"559b8c33-df69-40d6-87f4-dad93b1e351f\",\"roots\":{\"p1213\":\"af200288-2701-425a-ae36-7c2fc49026eb\"},\"root_ids\":[\"p1213\"]}];\n  void root.Bokeh.embed.embed_items_notebook(docs_json, render_items);\n  }\n  if (root.Bokeh !== undefined) {\n    embed_document(root);\n  } else {\n    let attempts = 0;\n    const timer = setInterval(function(root) {\n      if (root.Bokeh !== undefined) {\n        clearInterval(timer);\n        embed_document(root);\n      } else {\n        attempts++;\n        if (attempts > 100) {\n          clearInterval(timer);\n          console.log(\"Bokeh: ERROR: Unable to run BokehJS code because BokehJS library is missing\");\n        }\n      }\n    }, 10, root)\n  }\n})(window);",
      "application/vnd.bokehjs_exec.v0+json": ""
     },
     "metadata": {
      "application/vnd.bokehjs_exec.v0+json": {
       "id": "p1213"
      }
     },
     "output_type": "display_data"
    }
   ],
   "source": [
    "source = ColumnDataSource(time_day_normal_df)\n",
    "\n",
    "output_file(SAVE_PATH + \"crimes_by_time_of_day.html\")\n",
    "\n",
    "# Make the plot\n",
    "hours = [f\"{i:02}:00\" for i in range(24)]\n",
    "p = bp.figure(\n",
    "    x_range=FactorRange(factors = hours),\n",
    "    height=400,\n",
    "    width=1200,\n",
    "    title=\"Crimes by time of day\",\n",
    "    toolbar_location=\"above\",\n",
    "    )\n",
    "\n",
    "# Make the legend (interactive *thingy*)\n",
    "bar = {}\n",
    "items = [None] * NUM_FOCUS_CRIMES # <- to store the legend items\n",
    "\n",
    "for indx, category in enumerate(focuscrimes):\n",
    "    bar[category] = p.vbar(\n",
    "        x=ROW_NAME,\n",
    "        top=category,\n",
    "        source=source,\n",
    "        width=0.9,\n",
    "        color=Category20c[NUM_FOCUS_CRIMES][indx],\n",
    "    )\n",
    "    items[indx] = (category, [bar[category]])\n",
    "\n",
    "legend = Legend(items=items, location=(0, 0), click_policy=\"mute\")\n",
    "\n",
    "p.add_layout(legend, \"left\")\n",
    "show(p)"
   ]
  },
  {
   "cell_type": "markdown",
   "metadata": {},
   "source": [
    "## Part 3: Narrative Dataviz\n",
    "\n",
    "Let's finish up with some reading\n",
    "\n",
    "*Reading*: [Narrative Visualization: Telling Stories with Data](http://vis.stanford.edu/files/2010-Narrative-InfoVis.pdf) by Edward Segel and Jeffrey Heer. We'll read section 1-3 today. (And the rest a bit later).\n",
    "\n",
    "When you get to section 3 it's fun to open up the examples mentioned by the authors in a browser and explore them as you read the text. \n",
    "\n",
    "> *Exercise*: Answer a couple of questions about the paper.\n",
    "> \n",
    "> * What is the *Oxford English Dictionary's* defintion of a narrative?\n",
    "> * What is your favorite visualization among the examples in section 3? Explain why in a few words."
   ]
  },
  {
   "cell_type": "code",
   "execution_count": null,
   "metadata": {},
   "outputs": [],
   "source": []
  }
 ],
 "metadata": {
  "kernelspec": {
   "display_name": "Python 3 (ipykernel)",
   "language": "python",
   "name": "python3"
  },
  "language_info": {
   "codemirror_mode": {
    "name": "ipython",
    "version": 3
   },
   "file_extension": ".py",
   "mimetype": "text/x-python",
   "name": "python",
   "nbconvert_exporter": "python",
   "pygments_lexer": "ipython3",
   "version": "3.12.1"
  }
 },
 "nbformat": 4,
 "nbformat_minor": 4
}
