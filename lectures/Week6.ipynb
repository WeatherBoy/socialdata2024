{
 "cells": [
  {
   "cell_type": "markdown",
   "metadata": {},
   "source": [
    "## Intro\n",
    "\n",
    "The purpose of today's class is to explore data using **interactive visualizations**. Interactivity is a key part of modern dataviz. It's a way to allow users of your visualizations get their own feel for the data ... to create richer visualization, where people who use your work can expose more of the data by exploring.\n",
    "\n",
    "I've also got a little video of \"practical updates\"\n",
    "\n",
    "[![IMAGE ALT TEXT HERE](https://github.com/suneman/socialdata2024/blob/main/files/thumbnail_week6.png?raw=true)](https://panopto.dtu.dk/Panopto/Pages/Viewer.aspx?id=13f93c21-8675-4c5a-bbad-b12a00adaa1c)"
   ]
  },
  {
   "cell_type": "markdown",
   "metadata": {},
   "source": [
    "## Part 1: Video Lectures and Reading\n",
    "\n",
    "Starting this week, we'll be playing around with *explanatory data visualization*. Roughly speaking this means using data visualization to communicate your results to others. Thus, there are new things to think about. \n",
    "\n",
    "Until today we have worked with static data visualization. However, exploratory data analysis means to be able to explore the multi-faceted nature of data and *interactive dataviz* is a handy tool to do it! It allows to play with the data: Toggle the view. Zoom. Drag. Show more details. All those things. Those are a key part of modern data visualization. \n",
    "\n",
    "The video below provides context about these points.\n",
    "\n",
    "We start with the video and then read a bit from a scientific article about types of explanatory dataviz. (*The video is from an old version of the class that used D3, so just ignore those parts.*).\n",
    "\n",
    "[![IMAGE ALT TEXT HERE](https://img.youtube.com/vi/yHKYMGwefso/0.jpg)](https://www.youtube.com/watch?v=yHKYMGwefso)"
   ]
  },
  {
   "cell_type": "markdown",
   "metadata": {},
   "source": [
    "> **Note**Keep your answers to the questions short and sweet!\n",
    "> *Exercises*: Explanatory data visualization. <font color=gray>It's OK to use LLMs here if you can</font>.\n",
    "> * What are the three key elements to keep in mind when you design an explanatory visualization?\n",
    "> * In the video I talk about (1) *overview first*,  (2) *zoom and filter*,  (3) *details on demand*. \n",
    ">   - Go online and find a visualization that follows these principles (don't use one from the video). \n",
    ">   - Explain how your video achieves (1)-(3). It might be useful to use screenshots to illustrate your explanation.\n",
    "> * Explain in your own words: How is explanatory data analysis different from exploratory data analysis?\n",
    "\n",
    "Explanatory data analysis is about you telling the story of some data. It is showing relations and what some data might really indicate.\n",
    "\n",
    "Exploratory data analysis is more like a GUI. It is making a framework for a user to explore the data on your own. However you shape the tools, otherwise they would just go into something like Python, themselves, so you have to be aware what questions the user might have."
   ]
  },
  {
   "cell_type": "markdown",
   "metadata": {},
   "source": [
    "## Part 2: Interactive visualizations with Bokeh\n",
    "\n",
    "\n",
    "\n",
    "To really master interactive visualizations, you will need to work with JavaScript, especially [D3](https://d3js.org). Given the limited time available for this class, we can't squeeze that in. But luckily Python has some pretty good options for interactive visualizations. You can find a range of different options [here](https://mode.com/blog/python-interactive-plot-libraries/).\n",
    "\n",
    "Today, we'll explore [`Bokeh`](https://docs.bokeh.org/en/latest/), which provides lots of nice interactive funtionalities to Python. To work with Bokeh, we first set up our system:\n",
    "\n",
    "1. If you haven't installed it yet please do so. You can simply follow [these steps](https://docs.bokeh.org/en/latest/docs/first_steps/installation.html)\n",
    "\n",
    "2. To include Bokeh in your notebooks you can follow the [Bokeh: Using with Jupyter](https://docs.bokeh.org/en/latest/docs/user_guide/output/jupyter.html#jupyter) guide. Come back to this one when you need it\n",
    "\n",
    "3. We aim to give you a gentle start with Bokeh and I am going to include more example code than usual in the follwing.\n",
    "   * **HINT 1**: If you're not an experienced Python user, I recommend going to the [official user's guide](https://docs.bokeh.org/en/latest/docs/user_guide.html#userguide) and working through it. Start by clicking \"Introduction\" in the linked page. That page has a glossary, a section on output methods, stuff on settings, and interfaces that you can scroll through. The next page *Basic Plotting* where the action is. Spend some time working through that.\n",
    "   * **HINT 2**: And by \"working through it\", I mean copy, paste, and run the code in your own notebook. "
   ]
  },
  {
   "cell_type": "markdown",
   "metadata": {},
   "source": [
    "Ok. Let's get started. First a general announcement on the data.\n",
    "\n",
    "> **Announcement**\n",
    "> * During this entire lecture, as always, we are going to work with the SF Crime Data. \n",
    "> * We will use data for the **period 2010-2017***.\n",
    "\n",
    "\n",
    "Now, to get you in the mood here's a little gif to illustrate what the goal of this exercise is:"
   ]
  },
  {
   "cell_type": "markdown",
   "metadata": {},
   "source": [
    "![Movie](https://github.com/suneman/socialdata2024/blob/main/files/week6_1.gif?raw=true)\n",
    "\n",
    "If the gif isn't displaying on your system, you can download it [here](https://github.com/suneman/socialdata2024/blob/main/files/week6_1.gif) and display locally."
   ]
  },
  {
   "cell_type": "markdown",
   "metadata": {},
   "source": [
    "\n",
    "> ***Exercise***: Recreate the results from **Week 2** as an interactive visualisation (shown in the gif). To complete the exercise, follow the steps below to create your own version of the dataviz.\n",
    "\n",
    "### Data prep\n",
    "\n",
    "A key step is to set up the data right. So for this one, we'll be pretty strict about the steps. The workflow is\n",
    "\n",
    "1. Take the data for the period of 2010-2017 and group it by hour-of-the-day.\n",
    "2. We would like to be able to easily compare how the distribution of crimes differ from each other, not absolute numbers, so we will work on *normalized data*:\n",
    "    * To normalise data for within a crime category you simply to devide the count for each hour by the total number of this crime type. (To give a concrete example in the `ASSAULT` category, take the number of assault-counts in 1st hour you should devide by the total number of assaults, then you devide number of assaults in 2nd hour by the total number of assaults and so on)\n",
    "    *  Your life will be easiest if you organize your dataframe as shown in [this helpful screenshot](https://github.com/suneman/socialdata2024/blob/main/files/W6_Part2_data.png).\n",
    "\n"
   ]
  },
  {
   "cell_type": "code",
   "execution_count": 14,
   "metadata": {},
   "outputs": [],
   "source": [
    "import pandas as pd\n",
    "import numpy as np\n",
    "import matplotlib.pyplot as plt\n",
    "\n",
    "SAVE_PATH = \"plots/Week6/\"\n",
    "\n",
    "focuscrimes = set(['WEAPON LAWS', 'PROSTITUTION', 'DRIVING UNDER THE INFLUENCE', 'ROBBERY', 'BURGLARY', 'ASSAULT', 'DRUNKENNESS', 'DRUG/NARCOTIC', 'TRESPASS', 'LARCENY/THEFT', 'VANDALISM', 'VEHICLE THEFT', 'STOLEN PROPERTY', 'DISORDERLY CONDUCT'])"
   ]
  },
  {
   "cell_type": "code",
   "execution_count": 15,
   "metadata": {},
   "outputs": [
    {
     "name": "stdout",
     "output_type": "stream",
     "text": [
      "             PdId  IncidntNum  Incident Code       Category  \\\n",
      "0   4133422003074    41334220           3074        ROBBERY   \n",
      "1   5118535807021    51185358           7021  VEHICLE THEFT   \n",
      "2   4018830907021    40188309           7021  VEHICLE THEFT   \n",
      "3  11014543126030   110145431          26030          ARSON   \n",
      "4  10108108004134   101081080           4134        ASSAULT   \n",
      "\n",
      "                Descript DayOfWeek        Date   Time PdDistrict Resolution  \\\n",
      "0  ROBBERY, BODILY FORCE    Monday  11/22/2004  17:50  INGLESIDE       NONE   \n",
      "1      STOLEN AUTOMOBILE   Tuesday  10/18/2005  20:00       PARK       NONE   \n",
      "2      STOLEN AUTOMOBILE    Sunday  02/15/2004  02:00   SOUTHERN       NONE   \n",
      "3                  ARSON    Friday  02/18/2011  05:27  INGLESIDE       NONE   \n",
      "4                BATTERY    Sunday  11/21/2010  17:00   SOUTHERN       NONE   \n",
      "\n",
      "   ... Fix It Zones as of 2017-11-06  2 2  DELETE - HSOC Zones 2 2  \\\n",
      "0  ...                                NaN                      NaN   \n",
      "1  ...                                NaN                      NaN   \n",
      "2  ...                                NaN                      NaN   \n",
      "3  ...                                NaN                      NaN   \n",
      "4  ...                                NaN                      NaN   \n",
      "\n",
      "   Fix It Zones as of 2018-02-07 2 2  \\\n",
      "0                                NaN   \n",
      "1                                NaN   \n",
      "2                                NaN   \n",
      "3                                NaN   \n",
      "4                                NaN   \n",
      "\n",
      "  CBD, BID and GBD Boundaries as of 2017 2 2  \\\n",
      "0                                        NaN   \n",
      "1                                        NaN   \n",
      "2                                        NaN   \n",
      "3                                        NaN   \n",
      "4                                        NaN   \n",
      "\n",
      "   Areas of Vulnerability, 2016 2 2  Central Market/Tenderloin Boundary 2 2  \\\n",
      "0                               NaN                                     NaN   \n",
      "1                               NaN                                     NaN   \n",
      "2                               NaN                                     NaN   \n",
      "3                               1.0                                     NaN   \n",
      "4                               2.0                                     NaN   \n",
      "\n",
      "   Central Market/Tenderloin Boundary Polygon - Updated 2 2  \\\n",
      "0                                                NaN          \n",
      "1                                                NaN          \n",
      "2                                                NaN          \n",
      "3                                                NaN          \n",
      "4                                                NaN          \n",
      "\n",
      "   HSOC Zones as of 2018-06-05 2 2  OWED Public Spaces 2 2  Neighborhoods 2  \n",
      "0                              NaN                     NaN              NaN  \n",
      "1                              NaN                     NaN              NaN  \n",
      "2                              NaN                     NaN              NaN  \n",
      "3                              NaN                     NaN             94.0  \n",
      "4                              NaN                     NaN             32.0  \n",
      "\n",
      "[5 rows x 35 columns]\n"
     ]
    }
   ],
   "source": [
    "# *** Load and filter the data ***\n",
    "FILENAME = \"data/Police_Department_Incident_Reports__Historical_2003_to_May_2018_20240130.csv\"\n",
    "crime_df = pd.read_csv(FILENAME)\n",
    "crime_df = crime_df[crime_df[\"Date\"].str.contains(\"2018\") == False] # Remove 2018 data\n",
    "\n",
    "\n",
    "print(crime_df.head())"
   ]
  },
  {
   "cell_type": "code",
   "execution_count": 28,
   "metadata": {},
   "outputs": [
    {
     "name": "stdout",
     "output_type": "stream",
     "text": [
      "Category  ASSAULT  BURGLARY  DISORDERLY CONDUCT  DRIVING UNDER THE INFLUENCE  \\\n",
      "Hour                                                                           \n",
      "0            8878      3386                 517                          705   \n",
      "1            8074      2186                 380                          647   \n",
      "2            7258      2358                 341                          642   \n",
      "3            3557      2412                 216                          286   \n",
      "4            2216      2143                 158                          106   \n",
      "\n",
      "Category  DRUG/NARCOTIC  DRUNKENNESS  LARCENY/THEFT  PROSTITUTION  ROBBERY  \\\n",
      "Hour                                                                         \n",
      "0                  3686          817          18568          1342     2908   \n",
      "1                  2242          774          11481          1041     2987   \n",
      "2                  1817          656           7505           771     3129   \n",
      "3                  1235          258           4688           540     1888   \n",
      "4                   900          132           3042           464     1225   \n",
      "\n",
      "Category  STOLEN PROPERTY  TRESPASS  VANDALISM  VEHICLE THEFT  WEAPON LAWS  \n",
      "Hour                                                                        \n",
      "0                     534       550       6352           4695         1087  \n",
      "1                     379       393       4451           3206          815  \n",
      "2                     317       436       4210           2541          712  \n",
      "3                     246       359       2819           1572          439  \n",
      "4                     222       260       1879           1215          308  \n"
     ]
    }
   ],
   "source": [
    "# *** Group by time of day and category ***\n",
    "\n",
    "FOCUS_DATASET = True\n",
    "\n",
    "# Convert date and time to datetime\n",
    "crime_df[\"DateTime\"] = pd.to_datetime(crime_df[\"Date\"].astype(str) + ' ' + crime_df[\"Time\"].astype(str))\n",
    "\n",
    "if FOCUS_DATASET:\n",
    "    crime_df = crime_df[crime_df[\"Category\"].isin(focuscrimes)]\n",
    "\n",
    "# Group by time of day and category \n",
    "time_day_df = crime_df.groupby([crime_df[\"DateTime\"].dt.hour, \"Category\"])\n",
    "time_day_df = time_day_df.size().unstack()\n",
    "\n",
    "# and rename rows to hour\n",
    "time_day_df.index.name = \"Hour\"\n",
    "time_day_df.columns.name = \"Category\"\n",
    "\n",
    "\n",
    "print(time_day_df.head())"
   ]
  },
  {
   "cell_type": "code",
   "execution_count": 29,
   "metadata": {},
   "outputs": [
    {
     "name": "stdout",
     "output_type": "stream",
     "text": [
      "Category   ASSAULT  BURGLARY  DISORDERLY CONDUCT  DRIVING UNDER THE INFLUENCE  \\\n",
      "Hour                                                                            \n",
      "0         0.054414  0.038057            0.052551                     0.126799   \n",
      "1         0.049486  0.024570            0.038626                     0.116367   \n",
      "2         0.044484  0.026503            0.034662                     0.115468   \n",
      "3         0.021801  0.027110            0.021956                     0.051439   \n",
      "4         0.013582  0.024087            0.016060                     0.019065   \n",
      "\n",
      "Category  DRUG/NARCOTIC  DRUNKENNESS  LARCENY/THEFT  PROSTITUTION   ROBBERY  \\\n",
      "Hour                                                                          \n",
      "0              0.031680     0.084436       0.039986      0.081566  0.054440   \n",
      "1              0.019269     0.079992       0.024724      0.063271  0.055919   \n",
      "2              0.015616     0.067797       0.016162      0.046861  0.058577   \n",
      "3              0.010614     0.026664       0.010096      0.032821  0.035345   \n",
      "4              0.007735     0.013642       0.006551      0.028202  0.022933   \n",
      "\n",
      "Category  STOLEN PROPERTY  TRESPASS  VANDALISM  VEHICLE THEFT  WEAPON LAWS  \n",
      "Hour                                                                        \n",
      "0                0.047708  0.029442   0.056748       0.037633     0.053292  \n",
      "1                0.033860  0.021037   0.039765       0.025698     0.039957  \n",
      "2                0.028321  0.023339   0.037612       0.020367     0.034907  \n",
      "3                0.021978  0.019217   0.025185       0.012600     0.021523  \n",
      "4                0.019834  0.013918   0.016787       0.009739     0.015100  \n"
     ]
    }
   ],
   "source": [
    "# Normalize the data \n",
    "time_day_normal_df = time_day_df.div(time_day_df.sum(axis=0), axis=1)\n",
    "\n",
    "print(time_day_normal_df.head())\n"
   ]
  },
  {
   "cell_type": "markdown",
   "metadata": {},
   "source": [
    "If you've followed these steps, your data should be ready! Take a moment to celebrate. Below, we follow the [Bokeh guide for categorical data](https://docs.bokeh.org/en/latest/docs/user_guide/basic/bars.html). You can either <font color=gray>use some kind of LLM support to make it happen, it's OK to go nuts and ask away</font> or you can follow the old-school hints from last year:\n",
    "\n",
    "\n",
    "1. First, let's convert our **Pandas Dataframe** to **Bokeh ColumnDataSource**:\n",
    "   \n",
    "  > ```python\n",
    "  > source = ColumnDataSource(your_processed_dataframe)\n",
    "  > ## it is a standard way to convert your df to bokeh\n",
    "  > ```\n",
    "\n",
    "2. We also need to create an empty figure (we will add our stuff here later on). Mini sub-exercise: Find the a guide how to define a figure in Bokeh online. Here is a little help:\n",
    "  \n",
    "  > ```python\n",
    "  > p = figure(...., x_range = FactorRange(factors=hours), ...) \n",
    "  > #p is a standard way to call figures in Bokeh\n",
    "  > #make sure to add x_range. In my case hours is a list on the form ['1', '2', '3' ... , '24']\n",
    "  > #read up on the FactorRange in the guide\n",
    "  > #do not forget to add other attributes to the figure, e.g. title, axis names and so on\n",
    "  > ```\n",
    "\n",
    "3. Now we are going to add the bars. In order to do so, we will use **vbar** (see the guide for help):\n",
    "  \n",
    "  > ```python\n",
    "  > bar ={} # to store vbars\n",
    "  > ### here we will do a for loop:\n",
    "  > for indx,i in enumerate(focuscrimes):\n",
    "  >     bar[i] = p.vbar(x='name_of_the_column_that_contain_hours',  top=i, source= src, \n",
    "  >                     ### we will create a vbar for each focuscrime\n",
    "  >                     legend_label=i,  muted_alpha=..., muted = ....) \n",
    "  > #i stands for a column that we use, top=y; we are specifying that our numbers comes from column i\n",
    "  > #read up what legend_label, muted and muted_alpha do... you can add more attributes (you HAVE TO)\n",
    "  > ```\n",
    "\n",
    "4. The last thing to do is to make your legend interactive and display the figure:\n",
    "  \n",
    "  > ```python\n",
    "  > p.legend.click_policy=\"mute\" ### assigns the click policy (you can try to use ''hide'\n",
    "  > show(p) #displays your plot\n",
    "  > ```\n",
    "\n",
    "5. You will notice that the legend appears in the middle of the figure (and it occludes some of the data). In order to fix this look into [this guide](https://stackoverflow.com/questions/26254619/position-of-the-legend-in-a-bokeh-plot) as a start. Below are some code snippets that you can use to deal with this problem (but read the guide first):\n",
    "  \n",
    "  > ```python\n",
    "  > items = [] ### for the custom legend // you need to figure out where to add it\n",
    "  > items.append((i, [bar[i]])) ### figure where to add it\n",
    "  > legend = Legend(items=..., location=.....) ## figure where to add it\n",
    "  > p.add_layout(...., ...) ## figure where to add it\n",
    "  > ### if you read the guide, it will make sense\n",
    "  > ```\n",
    "\n",
    "Now you should be able to recreate this amazing visualisation.\n",
    "\n",
    "\n",
    "**EXTRA feature**: If you're interested in detailed instructions for more Bokeh visualizations for your final project, you can find more inspiration **[here](https://github.com/suneman/socialdata2021/blob/main/lectures/Week8_extra_bokeh.ipynb)**."
   ]
  },
  {
   "cell_type": "markdown",
   "metadata": {},
   "source": [
    "## Part 3: Narrative Dataviz\n",
    "\n",
    "Let's finish up with some reading\n",
    "\n",
    "*Reading*: [Narrative Visualization: Telling Stories with Data](http://vis.stanford.edu/files/2010-Narrative-InfoVis.pdf) by Edward Segel and Jeffrey Heer. We'll read section 1-3 today. (And the rest a bit later).\n",
    "\n",
    "When you get to section 3 it's fun to open up the examples mentioned by the authors in a browser and explore them as you read the text. \n",
    "\n",
    "> *Exercise*: Answer a couple of questions about the paper.\n",
    "> \n",
    "> * What is the *Oxford English Dictionary's* defintion of a narrative?\n",
    "> * What is your favorite visualization among the examples in section 3? Explain why in a few words."
   ]
  },
  {
   "cell_type": "code",
   "execution_count": null,
   "metadata": {},
   "outputs": [],
   "source": []
  }
 ],
 "metadata": {
  "kernelspec": {
   "display_name": "Python 3 (ipykernel)",
   "language": "python",
   "name": "python3"
  },
  "language_info": {
   "codemirror_mode": {
    "name": "ipython",
    "version": 3
   },
   "file_extension": ".py",
   "mimetype": "text/x-python",
   "name": "python",
   "nbconvert_exporter": "python",
   "pygments_lexer": "ipython3",
   "version": "3.12.1"
  }
 },
 "nbformat": 4,
 "nbformat_minor": 4
}
